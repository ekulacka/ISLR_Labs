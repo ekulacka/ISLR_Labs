{
 "cells": [
  {
   "cell_type": "markdown",
   "metadata": {},
   "source": [
    "\n",
    "# 4.6 Lab: Logistic Regression, LDA, QDA, and KNN"
   ]
  },
  {
   "cell_type": "markdown",
   "metadata": {},
   "source": [
    "## 4.6.1 The Stock Market Data"
   ]
  },
  {
   "cell_type": "code",
   "execution_count": 2,
   "metadata": {},
   "outputs": [],
   "source": [
    "import numpy as np\n",
    "import pandas as pd\n",
    "import statsmodels.api as sm\n",
    "import statsmodels.formula.api as smf\n",
    "\n",
    "import matplotlib.pyplot as plt\n",
    "\n",
    "pd.set_option('precision',4 ) # number precision for pandas"
   ]
  },
  {
   "cell_type": "markdown",
   "metadata": {},
   "source": [
    "We will begin by examining some numerical and graphical summaries of the Smarket data. \n",
    "This data set consists of percentage returns for the S&P 500 stock index over 1,250 days,\n",
    "from the beginning of 2001 until the end of 2005.\n",
    "For each date, we have recorded the percentage returns for each of the five previous trading days,\n",
    "Lag1 through Lag5. We have also recorded Volume (the number of shares traded on the previous day, in billions), \n",
    "Today (the percentage return on the date in question) and Direction (whether the market was Up or Down on this date)."
   ]
  },
  {
   "cell_type": "code",
   "execution_count": 3,
   "metadata": {},
   "outputs": [
    {
     "data": {
      "text/html": [
       "<div>\n",
       "<style scoped>\n",
       "    .dataframe tbody tr th:only-of-type {\n",
       "        vertical-align: middle;\n",
       "    }\n",
       "\n",
       "    .dataframe tbody tr th {\n",
       "        vertical-align: top;\n",
       "    }\n",
       "\n",
       "    .dataframe thead th {\n",
       "        text-align: right;\n",
       "    }\n",
       "</style>\n",
       "<table border=\"1\" class=\"dataframe\">\n",
       "  <thead>\n",
       "    <tr style=\"text-align: right;\">\n",
       "      <th></th>\n",
       "      <th>Year</th>\n",
       "      <th>Lag1</th>\n",
       "      <th>Lag2</th>\n",
       "      <th>Lag3</th>\n",
       "      <th>Lag4</th>\n",
       "      <th>Lag5</th>\n",
       "      <th>Volume</th>\n",
       "      <th>Today</th>\n",
       "      <th>Direction</th>\n",
       "    </tr>\n",
       "  </thead>\n",
       "  <tbody>\n",
       "    <tr>\n",
       "      <th>1</th>\n",
       "      <td>2001</td>\n",
       "      <td>0.381</td>\n",
       "      <td>-0.192</td>\n",
       "      <td>-2.624</td>\n",
       "      <td>-1.055</td>\n",
       "      <td>5.010</td>\n",
       "      <td>1.1913</td>\n",
       "      <td>0.959</td>\n",
       "      <td>Up</td>\n",
       "    </tr>\n",
       "    <tr>\n",
       "      <th>2</th>\n",
       "      <td>2001</td>\n",
       "      <td>0.959</td>\n",
       "      <td>0.381</td>\n",
       "      <td>-0.192</td>\n",
       "      <td>-2.624</td>\n",
       "      <td>-1.055</td>\n",
       "      <td>1.2965</td>\n",
       "      <td>1.032</td>\n",
       "      <td>Up</td>\n",
       "    </tr>\n",
       "    <tr>\n",
       "      <th>3</th>\n",
       "      <td>2001</td>\n",
       "      <td>1.032</td>\n",
       "      <td>0.959</td>\n",
       "      <td>0.381</td>\n",
       "      <td>-0.192</td>\n",
       "      <td>-2.624</td>\n",
       "      <td>1.4112</td>\n",
       "      <td>-0.623</td>\n",
       "      <td>Down</td>\n",
       "    </tr>\n",
       "    <tr>\n",
       "      <th>4</th>\n",
       "      <td>2001</td>\n",
       "      <td>-0.623</td>\n",
       "      <td>1.032</td>\n",
       "      <td>0.959</td>\n",
       "      <td>0.381</td>\n",
       "      <td>-0.192</td>\n",
       "      <td>1.2760</td>\n",
       "      <td>0.614</td>\n",
       "      <td>Up</td>\n",
       "    </tr>\n",
       "    <tr>\n",
       "      <th>5</th>\n",
       "      <td>2001</td>\n",
       "      <td>0.614</td>\n",
       "      <td>-0.623</td>\n",
       "      <td>1.032</td>\n",
       "      <td>0.959</td>\n",
       "      <td>0.381</td>\n",
       "      <td>1.2057</td>\n",
       "      <td>0.213</td>\n",
       "      <td>Up</td>\n",
       "    </tr>\n",
       "  </tbody>\n",
       "</table>\n",
       "</div>"
      ],
      "text/plain": [
       "   Year   Lag1   Lag2   Lag3   Lag4   Lag5  Volume  Today Direction\n",
       "1  2001  0.381 -0.192 -2.624 -1.055  5.010  1.1913  0.959        Up\n",
       "2  2001  0.959  0.381 -0.192 -2.624 -1.055  1.2965  1.032        Up\n",
       "3  2001  1.032  0.959  0.381 -0.192 -2.624  1.4112 -0.623      Down\n",
       "4  2001 -0.623  1.032  0.959  0.381 -0.192  1.2760  0.614        Up\n",
       "5  2001  0.614 -0.623  1.032  0.959  0.381  1.2057  0.213        Up"
      ]
     },
     "execution_count": 3,
     "metadata": {},
     "output_type": "execute_result"
    }
   ],
   "source": [
    "smarket = pd.read_csv('Smarket.csv',index_col=0)\n",
    "smarket.head()"
   ]
  },
  {
   "cell_type": "code",
   "execution_count": 4,
   "metadata": {},
   "outputs": [
    {
     "data": {
      "text/plain": [
       "Index(['Year', 'Lag1', 'Lag2', 'Lag3', 'Lag4', 'Lag5', 'Volume', 'Today',\n",
       "       'Direction'],\n",
       "      dtype='object')"
      ]
     },
     "execution_count": 4,
     "metadata": {},
     "output_type": "execute_result"
    }
   ],
   "source": [
    "smarket.columns"
   ]
  },
  {
   "cell_type": "code",
   "execution_count": 5,
   "metadata": {},
   "outputs": [
    {
     "data": {
      "text/plain": [
       "(1250, 9)"
      ]
     },
     "execution_count": 5,
     "metadata": {},
     "output_type": "execute_result"
    }
   ],
   "source": [
    "smarket.shape"
   ]
  },
  {
   "cell_type": "code",
   "execution_count": 6,
   "metadata": {},
   "outputs": [
    {
     "data": {
      "text/html": [
       "<div>\n",
       "<style scoped>\n",
       "    .dataframe tbody tr th:only-of-type {\n",
       "        vertical-align: middle;\n",
       "    }\n",
       "\n",
       "    .dataframe tbody tr th {\n",
       "        vertical-align: top;\n",
       "    }\n",
       "\n",
       "    .dataframe thead th {\n",
       "        text-align: right;\n",
       "    }\n",
       "</style>\n",
       "<table border=\"1\" class=\"dataframe\">\n",
       "  <thead>\n",
       "    <tr style=\"text-align: right;\">\n",
       "      <th></th>\n",
       "      <th>Year</th>\n",
       "      <th>Lag1</th>\n",
       "      <th>Lag2</th>\n",
       "      <th>Lag3</th>\n",
       "      <th>Lag4</th>\n",
       "      <th>Lag5</th>\n",
       "      <th>Volume</th>\n",
       "      <th>Today</th>\n",
       "      <th>Direction</th>\n",
       "    </tr>\n",
       "  </thead>\n",
       "  <tbody>\n",
       "    <tr>\n",
       "      <th>count</th>\n",
       "      <td>1250.000</td>\n",
       "      <td>1250.0000</td>\n",
       "      <td>1250.0000</td>\n",
       "      <td>1250.0000</td>\n",
       "      <td>1250.0000</td>\n",
       "      <td>1250.0000</td>\n",
       "      <td>1250.0000</td>\n",
       "      <td>1250.0000</td>\n",
       "      <td>1250</td>\n",
       "    </tr>\n",
       "    <tr>\n",
       "      <th>unique</th>\n",
       "      <td>NaN</td>\n",
       "      <td>NaN</td>\n",
       "      <td>NaN</td>\n",
       "      <td>NaN</td>\n",
       "      <td>NaN</td>\n",
       "      <td>NaN</td>\n",
       "      <td>NaN</td>\n",
       "      <td>NaN</td>\n",
       "      <td>2</td>\n",
       "    </tr>\n",
       "    <tr>\n",
       "      <th>top</th>\n",
       "      <td>NaN</td>\n",
       "      <td>NaN</td>\n",
       "      <td>NaN</td>\n",
       "      <td>NaN</td>\n",
       "      <td>NaN</td>\n",
       "      <td>NaN</td>\n",
       "      <td>NaN</td>\n",
       "      <td>NaN</td>\n",
       "      <td>Up</td>\n",
       "    </tr>\n",
       "    <tr>\n",
       "      <th>freq</th>\n",
       "      <td>NaN</td>\n",
       "      <td>NaN</td>\n",
       "      <td>NaN</td>\n",
       "      <td>NaN</td>\n",
       "      <td>NaN</td>\n",
       "      <td>NaN</td>\n",
       "      <td>NaN</td>\n",
       "      <td>NaN</td>\n",
       "      <td>648</td>\n",
       "    </tr>\n",
       "    <tr>\n",
       "      <th>mean</th>\n",
       "      <td>2003.016</td>\n",
       "      <td>0.0038</td>\n",
       "      <td>0.0039</td>\n",
       "      <td>0.0017</td>\n",
       "      <td>0.0016</td>\n",
       "      <td>0.0056</td>\n",
       "      <td>1.4783</td>\n",
       "      <td>0.0031</td>\n",
       "      <td>NaN</td>\n",
       "    </tr>\n",
       "    <tr>\n",
       "      <th>std</th>\n",
       "      <td>1.409</td>\n",
       "      <td>1.1363</td>\n",
       "      <td>1.1363</td>\n",
       "      <td>1.1387</td>\n",
       "      <td>1.1388</td>\n",
       "      <td>1.1476</td>\n",
       "      <td>0.3604</td>\n",
       "      <td>1.1363</td>\n",
       "      <td>NaN</td>\n",
       "    </tr>\n",
       "    <tr>\n",
       "      <th>min</th>\n",
       "      <td>2001.000</td>\n",
       "      <td>-4.9220</td>\n",
       "      <td>-4.9220</td>\n",
       "      <td>-4.9220</td>\n",
       "      <td>-4.9220</td>\n",
       "      <td>-4.9220</td>\n",
       "      <td>0.3561</td>\n",
       "      <td>-4.9220</td>\n",
       "      <td>NaN</td>\n",
       "    </tr>\n",
       "    <tr>\n",
       "      <th>25%</th>\n",
       "      <td>2002.000</td>\n",
       "      <td>-0.6395</td>\n",
       "      <td>-0.6395</td>\n",
       "      <td>-0.6400</td>\n",
       "      <td>-0.6400</td>\n",
       "      <td>-0.6400</td>\n",
       "      <td>1.2574</td>\n",
       "      <td>-0.6395</td>\n",
       "      <td>NaN</td>\n",
       "    </tr>\n",
       "    <tr>\n",
       "      <th>50%</th>\n",
       "      <td>2003.000</td>\n",
       "      <td>0.0390</td>\n",
       "      <td>0.0390</td>\n",
       "      <td>0.0385</td>\n",
       "      <td>0.0385</td>\n",
       "      <td>0.0385</td>\n",
       "      <td>1.4230</td>\n",
       "      <td>0.0385</td>\n",
       "      <td>NaN</td>\n",
       "    </tr>\n",
       "    <tr>\n",
       "      <th>75%</th>\n",
       "      <td>2004.000</td>\n",
       "      <td>0.5968</td>\n",
       "      <td>0.5968</td>\n",
       "      <td>0.5968</td>\n",
       "      <td>0.5968</td>\n",
       "      <td>0.5970</td>\n",
       "      <td>1.6417</td>\n",
       "      <td>0.5968</td>\n",
       "      <td>NaN</td>\n",
       "    </tr>\n",
       "    <tr>\n",
       "      <th>max</th>\n",
       "      <td>2005.000</td>\n",
       "      <td>5.7330</td>\n",
       "      <td>5.7330</td>\n",
       "      <td>5.7330</td>\n",
       "      <td>5.7330</td>\n",
       "      <td>5.7330</td>\n",
       "      <td>3.1525</td>\n",
       "      <td>5.7330</td>\n",
       "      <td>NaN</td>\n",
       "    </tr>\n",
       "  </tbody>\n",
       "</table>\n",
       "</div>"
      ],
      "text/plain": [
       "            Year       Lag1       Lag2       Lag3       Lag4       Lag5  \\\n",
       "count   1250.000  1250.0000  1250.0000  1250.0000  1250.0000  1250.0000   \n",
       "unique       NaN        NaN        NaN        NaN        NaN        NaN   \n",
       "top          NaN        NaN        NaN        NaN        NaN        NaN   \n",
       "freq         NaN        NaN        NaN        NaN        NaN        NaN   \n",
       "mean    2003.016     0.0038     0.0039     0.0017     0.0016     0.0056   \n",
       "std        1.409     1.1363     1.1363     1.1387     1.1388     1.1476   \n",
       "min     2001.000    -4.9220    -4.9220    -4.9220    -4.9220    -4.9220   \n",
       "25%     2002.000    -0.6395    -0.6395    -0.6400    -0.6400    -0.6400   \n",
       "50%     2003.000     0.0390     0.0390     0.0385     0.0385     0.0385   \n",
       "75%     2004.000     0.5968     0.5968     0.5968     0.5968     0.5970   \n",
       "max     2005.000     5.7330     5.7330     5.7330     5.7330     5.7330   \n",
       "\n",
       "           Volume      Today Direction  \n",
       "count   1250.0000  1250.0000      1250  \n",
       "unique        NaN        NaN         2  \n",
       "top           NaN        NaN        Up  \n",
       "freq          NaN        NaN       648  \n",
       "mean       1.4783     0.0031       NaN  \n",
       "std        0.3604     1.1363       NaN  \n",
       "min        0.3561    -4.9220       NaN  \n",
       "25%        1.2574    -0.6395       NaN  \n",
       "50%        1.4230     0.0385       NaN  \n",
       "75%        1.6417     0.5968       NaN  \n",
       "max        3.1525     5.7330       NaN  "
      ]
     },
     "execution_count": 6,
     "metadata": {},
     "output_type": "execute_result"
    }
   ],
   "source": [
    "smarket.describe(include=\"all\")"
   ]
  },
  {
   "cell_type": "markdown",
   "metadata": {},
   "source": [
    "The corr() produces a matrix that contains all of the pairwise correlations among the predictors in a data set."
   ]
  },
  {
   "cell_type": "code",
   "execution_count": 7,
   "metadata": {},
   "outputs": [
    {
     "data": {
      "text/html": [
       "<div>\n",
       "<style scoped>\n",
       "    .dataframe tbody tr th:only-of-type {\n",
       "        vertical-align: middle;\n",
       "    }\n",
       "\n",
       "    .dataframe tbody tr th {\n",
       "        vertical-align: top;\n",
       "    }\n",
       "\n",
       "    .dataframe thead th {\n",
       "        text-align: right;\n",
       "    }\n",
       "</style>\n",
       "<table border=\"1\" class=\"dataframe\">\n",
       "  <thead>\n",
       "    <tr style=\"text-align: right;\">\n",
       "      <th></th>\n",
       "      <th>Year</th>\n",
       "      <th>Lag1</th>\n",
       "      <th>Lag2</th>\n",
       "      <th>Lag3</th>\n",
       "      <th>Lag4</th>\n",
       "      <th>Lag5</th>\n",
       "      <th>Volume</th>\n",
       "      <th>Today</th>\n",
       "    </tr>\n",
       "  </thead>\n",
       "  <tbody>\n",
       "    <tr>\n",
       "      <th>Year</th>\n",
       "      <td>1.0000</td>\n",
       "      <td>0.0297</td>\n",
       "      <td>0.0306</td>\n",
       "      <td>0.0332</td>\n",
       "      <td>0.0357</td>\n",
       "      <td>0.0298</td>\n",
       "      <td>0.5390</td>\n",
       "      <td>0.0301</td>\n",
       "    </tr>\n",
       "    <tr>\n",
       "      <th>Lag1</th>\n",
       "      <td>0.0297</td>\n",
       "      <td>1.0000</td>\n",
       "      <td>-0.0263</td>\n",
       "      <td>-0.0108</td>\n",
       "      <td>-0.0030</td>\n",
       "      <td>-0.0057</td>\n",
       "      <td>0.0409</td>\n",
       "      <td>-0.0262</td>\n",
       "    </tr>\n",
       "    <tr>\n",
       "      <th>Lag2</th>\n",
       "      <td>0.0306</td>\n",
       "      <td>-0.0263</td>\n",
       "      <td>1.0000</td>\n",
       "      <td>-0.0259</td>\n",
       "      <td>-0.0109</td>\n",
       "      <td>-0.0036</td>\n",
       "      <td>-0.0434</td>\n",
       "      <td>-0.0103</td>\n",
       "    </tr>\n",
       "    <tr>\n",
       "      <th>Lag3</th>\n",
       "      <td>0.0332</td>\n",
       "      <td>-0.0108</td>\n",
       "      <td>-0.0259</td>\n",
       "      <td>1.0000</td>\n",
       "      <td>-0.0241</td>\n",
       "      <td>-0.0188</td>\n",
       "      <td>-0.0418</td>\n",
       "      <td>-0.0024</td>\n",
       "    </tr>\n",
       "    <tr>\n",
       "      <th>Lag4</th>\n",
       "      <td>0.0357</td>\n",
       "      <td>-0.0030</td>\n",
       "      <td>-0.0109</td>\n",
       "      <td>-0.0241</td>\n",
       "      <td>1.0000</td>\n",
       "      <td>-0.0271</td>\n",
       "      <td>-0.0484</td>\n",
       "      <td>-0.0069</td>\n",
       "    </tr>\n",
       "    <tr>\n",
       "      <th>Lag5</th>\n",
       "      <td>0.0298</td>\n",
       "      <td>-0.0057</td>\n",
       "      <td>-0.0036</td>\n",
       "      <td>-0.0188</td>\n",
       "      <td>-0.0271</td>\n",
       "      <td>1.0000</td>\n",
       "      <td>-0.0220</td>\n",
       "      <td>-0.0349</td>\n",
       "    </tr>\n",
       "    <tr>\n",
       "      <th>Volume</th>\n",
       "      <td>0.5390</td>\n",
       "      <td>0.0409</td>\n",
       "      <td>-0.0434</td>\n",
       "      <td>-0.0418</td>\n",
       "      <td>-0.0484</td>\n",
       "      <td>-0.0220</td>\n",
       "      <td>1.0000</td>\n",
       "      <td>0.0146</td>\n",
       "    </tr>\n",
       "    <tr>\n",
       "      <th>Today</th>\n",
       "      <td>0.0301</td>\n",
       "      <td>-0.0262</td>\n",
       "      <td>-0.0103</td>\n",
       "      <td>-0.0024</td>\n",
       "      <td>-0.0069</td>\n",
       "      <td>-0.0349</td>\n",
       "      <td>0.0146</td>\n",
       "      <td>1.0000</td>\n",
       "    </tr>\n",
       "  </tbody>\n",
       "</table>\n",
       "</div>"
      ],
      "text/plain": [
       "          Year    Lag1    Lag2    Lag3    Lag4    Lag5  Volume   Today\n",
       "Year    1.0000  0.0297  0.0306  0.0332  0.0357  0.0298  0.5390  0.0301\n",
       "Lag1    0.0297  1.0000 -0.0263 -0.0108 -0.0030 -0.0057  0.0409 -0.0262\n",
       "Lag2    0.0306 -0.0263  1.0000 -0.0259 -0.0109 -0.0036 -0.0434 -0.0103\n",
       "Lag3    0.0332 -0.0108 -0.0259  1.0000 -0.0241 -0.0188 -0.0418 -0.0024\n",
       "Lag4    0.0357 -0.0030 -0.0109 -0.0241  1.0000 -0.0271 -0.0484 -0.0069\n",
       "Lag5    0.0298 -0.0057 -0.0036 -0.0188 -0.0271  1.0000 -0.0220 -0.0349\n",
       "Volume  0.5390  0.0409 -0.0434 -0.0418 -0.0484 -0.0220  1.0000  0.0146\n",
       "Today   0.0301 -0.0262 -0.0103 -0.0024 -0.0069 -0.0349  0.0146  1.0000"
      ]
     },
     "execution_count": 7,
     "metadata": {},
     "output_type": "execute_result"
    }
   ],
   "source": [
    "smarket.corr()"
   ]
  },
  {
   "cell_type": "markdown",
   "metadata": {},
   "source": [
    "As one would expect, the correlations between the lag variables and today's returns are close to zero. In other words, \n",
    "there appears to be little correlation between today's returns and previous days' returns. The only substantial correlation\n",
    "is between Year and Volume. By plotting the data we see that Volume is increasing over time. In other words, the average number of shares traded daily increased from 2001 to 2005."
   ]
  },
  {
   "cell_type": "code",
   "execution_count": 8,
   "metadata": {},
   "outputs": [
    {
     "data": {
      "image/png": "[encoded data removed]",
      "text/plain": [
       "<Figure size 432x288 with 1 Axes>"
      ]
     },
     "metadata": {
      "needs_background": "light"
     },
     "output_type": "display_data"
    }
   ],
   "source": [
    "plt.plot(smarket.Volume);"
   ]
  },
  {
   "cell_type": "markdown",
   "metadata": {},
   "source": [
    "## 4.6.2 Logistic Regression"
   ]
  },
  {
   "cell_type": "markdown",
   "metadata": {},
   "source": [
    "Next, we will fit a logistic regression model in order to predict Direction using Lag1 through Lag5 and Volume."
   ]
  },
  {
   "cell_type": "code",
   "execution_count": 9,
   "metadata": {},
   "outputs": [
    {
     "data": {
      "text/html": [
       "<div>\n",
       "<style scoped>\n",
       "    .dataframe tbody tr th:only-of-type {\n",
       "        vertical-align: middle;\n",
       "    }\n",
       "\n",
       "    .dataframe tbody tr th {\n",
       "        vertical-align: top;\n",
       "    }\n",
       "\n",
       "    .dataframe thead th {\n",
       "        text-align: right;\n",
       "    }\n",
       "</style>\n",
       "<table border=\"1\" class=\"dataframe\">\n",
       "  <thead>\n",
       "    <tr style=\"text-align: right;\">\n",
       "      <th></th>\n",
       "      <th>Year</th>\n",
       "      <th>Lag1</th>\n",
       "      <th>Lag2</th>\n",
       "      <th>Lag3</th>\n",
       "      <th>Lag4</th>\n",
       "      <th>Lag5</th>\n",
       "      <th>Volume</th>\n",
       "      <th>Today</th>\n",
       "      <th>Direction</th>\n",
       "      <th>DirCode</th>\n",
       "    </tr>\n",
       "  </thead>\n",
       "  <tbody>\n",
       "    <tr>\n",
       "      <th>1</th>\n",
       "      <td>2001</td>\n",
       "      <td>0.381</td>\n",
       "      <td>-0.192</td>\n",
       "      <td>-2.624</td>\n",
       "      <td>-1.055</td>\n",
       "      <td>5.010</td>\n",
       "      <td>1.1913</td>\n",
       "      <td>0.959</td>\n",
       "      <td>Up</td>\n",
       "      <td>1</td>\n",
       "    </tr>\n",
       "    <tr>\n",
       "      <th>2</th>\n",
       "      <td>2001</td>\n",
       "      <td>0.959</td>\n",
       "      <td>0.381</td>\n",
       "      <td>-0.192</td>\n",
       "      <td>-2.624</td>\n",
       "      <td>-1.055</td>\n",
       "      <td>1.2965</td>\n",
       "      <td>1.032</td>\n",
       "      <td>Up</td>\n",
       "      <td>1</td>\n",
       "    </tr>\n",
       "    <tr>\n",
       "      <th>3</th>\n",
       "      <td>2001</td>\n",
       "      <td>1.032</td>\n",
       "      <td>0.959</td>\n",
       "      <td>0.381</td>\n",
       "      <td>-0.192</td>\n",
       "      <td>-2.624</td>\n",
       "      <td>1.4112</td>\n",
       "      <td>-0.623</td>\n",
       "      <td>Down</td>\n",
       "      <td>0</td>\n",
       "    </tr>\n",
       "    <tr>\n",
       "      <th>4</th>\n",
       "      <td>2001</td>\n",
       "      <td>-0.623</td>\n",
       "      <td>1.032</td>\n",
       "      <td>0.959</td>\n",
       "      <td>0.381</td>\n",
       "      <td>-0.192</td>\n",
       "      <td>1.2760</td>\n",
       "      <td>0.614</td>\n",
       "      <td>Up</td>\n",
       "      <td>1</td>\n",
       "    </tr>\n",
       "    <tr>\n",
       "      <th>5</th>\n",
       "      <td>2001</td>\n",
       "      <td>0.614</td>\n",
       "      <td>-0.623</td>\n",
       "      <td>1.032</td>\n",
       "      <td>0.959</td>\n",
       "      <td>0.381</td>\n",
       "      <td>1.2057</td>\n",
       "      <td>0.213</td>\n",
       "      <td>Up</td>\n",
       "      <td>1</td>\n",
       "    </tr>\n",
       "  </tbody>\n",
       "</table>\n",
       "</div>"
      ],
      "text/plain": [
       "   Year   Lag1   Lag2   Lag3   Lag4   Lag5  Volume  Today Direction  DirCode\n",
       "1  2001  0.381 -0.192 -2.624 -1.055  5.010  1.1913  0.959        Up        1\n",
       "2  2001  0.959  0.381 -0.192 -2.624 -1.055  1.2965  1.032        Up        1\n",
       "3  2001  1.032  0.959  0.381 -0.192 -2.624  1.4112 -0.623      Down        0\n",
       "4  2001 -0.623  1.032  0.959  0.381 -0.192  1.2760  0.614        Up        1\n",
       "5  2001  0.614 -0.623  1.032  0.959  0.381  1.2057  0.213        Up        1"
      ]
     },
     "execution_count": 9,
     "metadata": {},
     "output_type": "execute_result"
    }
   ],
   "source": [
    "# Encode the response as 0,1 for Down Up\n",
    "\n",
    "smarket['DirCode'] = smarket['Direction'].map({'Up': 1, 'Down': 0})\n",
    "smarket.head()"
   ]
  },
  {
   "cell_type": "code",
   "execution_count": 10,
   "metadata": {},
   "outputs": [
    {
     "name": "stdout",
     "output_type": "stream",
     "text": [
      "Optimization terminated successfully.\n",
      "         Current function value: 0.691034\n",
      "         Iterations 4\n"
     ]
    },
    {
     "data": {
      "text/html": [
       "<table class=\"simpletable\">\n",
       "<caption>Logit Regression Results</caption>\n",
       "<tr>\n",
       "  <th>Dep. Variable:</th>      <td>DirCode</td>     <th>  No. Observations:  </th>  <td>  1250</td> \n",
       "</tr>\n",
       "<tr>\n",
       "  <th>Model:</th>               <td>Logit</td>      <th>  Df Residuals:      </th>  <td>  1243</td> \n",
       "</tr>\n",
       "<tr>\n",
       "  <th>Method:</th>               <td>MLE</td>       <th>  Df Model:          </th>  <td>     6</td> \n",
       "</tr>\n",
       "<tr>\n",
       "  <th>Date:</th>          <td>Tue, 15 Oct 2019</td> <th>  Pseudo R-squ.:     </th> <td>0.002074</td>\n",
       "</tr>\n",
       "<tr>\n",
       "  <th>Time:</th>              <td>20:08:40</td>     <th>  Log-Likelihood:    </th> <td> -863.79</td>\n",
       "</tr>\n",
       "<tr>\n",
       "  <th>converged:</th>           <td>True</td>       <th>  LL-Null:           </th> <td> -865.59</td>\n",
       "</tr>\n",
       "<tr>\n",
       "  <th> </th>                      <td> </td>        <th>  LLR p-value:       </th>  <td>0.7319</td> \n",
       "</tr>\n",
       "</table>\n",
       "<table class=\"simpletable\">\n",
       "<tr>\n",
       "      <td></td>         <th>coef</th>     <th>std err</th>      <th>z</th>      <th>P>|z|</th>  <th>[0.025</th>    <th>0.975]</th>  \n",
       "</tr>\n",
       "<tr>\n",
       "  <th>Intercept</th> <td>   -0.1260</td> <td>    0.241</td> <td>   -0.523</td> <td> 0.601</td> <td>   -0.598</td> <td>    0.346</td>\n",
       "</tr>\n",
       "<tr>\n",
       "  <th>Lag1</th>      <td>   -0.0731</td> <td>    0.050</td> <td>   -1.457</td> <td> 0.145</td> <td>   -0.171</td> <td>    0.025</td>\n",
       "</tr>\n",
       "<tr>\n",
       "  <th>Lag2</th>      <td>   -0.0423</td> <td>    0.050</td> <td>   -0.845</td> <td> 0.398</td> <td>   -0.140</td> <td>    0.056</td>\n",
       "</tr>\n",
       "<tr>\n",
       "  <th>Lag3</th>      <td>    0.0111</td> <td>    0.050</td> <td>    0.222</td> <td> 0.824</td> <td>   -0.087</td> <td>    0.109</td>\n",
       "</tr>\n",
       "<tr>\n",
       "  <th>Lag4</th>      <td>    0.0094</td> <td>    0.050</td> <td>    0.187</td> <td> 0.851</td> <td>   -0.089</td> <td>    0.107</td>\n",
       "</tr>\n",
       "<tr>\n",
       "  <th>Lag5</th>      <td>    0.0103</td> <td>    0.050</td> <td>    0.208</td> <td> 0.835</td> <td>   -0.087</td> <td>    0.107</td>\n",
       "</tr>\n",
       "<tr>\n",
       "  <th>Volume</th>    <td>    0.1354</td> <td>    0.158</td> <td>    0.855</td> <td> 0.392</td> <td>   -0.175</td> <td>    0.446</td>\n",
       "</tr>\n",
       "</table>"
      ],
      "text/plain": [
       "<class 'statsmodels.iolib.summary.Summary'>\n",
       "\"\"\"\n",
       "                           Logit Regression Results                           \n",
       "==============================================================================\n",
       "Dep. Variable:                DirCode   No. Observations:                 1250\n",
       "Model:                          Logit   Df Residuals:                     1243\n",
       "Method:                           MLE   Df Model:                            6\n",
       "Date:                Tue, 15 Oct 2019   Pseudo R-squ.:                0.002074\n",
       "Time:                        20:08:40   Log-Likelihood:                -863.79\n",
       "converged:                       True   LL-Null:                       -865.59\n",
       "                                        LLR p-value:                    0.7319\n",
       "==============================================================================\n",
       "                 coef    std err          z      P>|z|      [0.025      0.975]\n",
       "------------------------------------------------------------------------------\n",
       "Intercept     -0.1260      0.241     -0.523      0.601      -0.598       0.346\n",
       "Lag1          -0.0731      0.050     -1.457      0.145      -0.171       0.025\n",
       "Lag2          -0.0423      0.050     -0.845      0.398      -0.140       0.056\n",
       "Lag3           0.0111      0.050      0.222      0.824      -0.087       0.109\n",
       "Lag4           0.0094      0.050      0.187      0.851      -0.089       0.107\n",
       "Lag5           0.0103      0.050      0.208      0.835      -0.087       0.107\n",
       "Volume         0.1354      0.158      0.855      0.392      -0.175       0.446\n",
       "==============================================================================\n",
       "\"\"\""
      ]
     },
     "execution_count": 10,
     "metadata": {},
     "output_type": "execute_result"
    }
   ],
   "source": [
    "logit_model= smf.logit('DirCode ~ Lag1 + Lag2 + Lag3 + Lag4 + Lag5 + Volume', smarket).fit()\n",
    "logit_model.summary()"
   ]
  },
  {
   "cell_type": "markdown",
   "metadata": {},
   "source": [
    "The smallest p-value here is associated with Lag1. The negative coefficient for this predictor suggests that if the market had a positive return yesterday, then it is less likely to go up today. However, at a value of 0.15, the p-value is still relatively large, and so there is no clear evidence of a real association between Lag1 and Direction.\n",
    "\n",
    "We use the params method in order to access just the coefficients for this fitted model."
   ]
  },
  {
   "cell_type": "code",
   "execution_count": 11,
   "metadata": {},
   "outputs": [
    {
     "data": {
      "text/plain": [
       "Intercept   -0.1260\n",
       "Lag1        -0.0731\n",
       "Lag2        -0.0423\n",
       "Lag3         0.0111\n",
       "Lag4         0.0094\n",
       "Lag5         0.0103\n",
       "Volume       0.1354\n",
       "dtype: float64"
      ]
     },
     "execution_count": 11,
     "metadata": {},
     "output_type": "execute_result"
    }
   ],
   "source": [
    "logit_model.params"
   ]
  },
  {
   "cell_type": "markdown",
   "metadata": {},
   "source": [
    "The predict() function can be used to predict the probability that the market will go up, given values of the predictors.The output is of the form P (Y = 1|X).Here we have printed only the first ten probabilities. We know that these values correspond to the probability of the market going up, rather than down, because we have created a dummy variable with a 0/1 for Down/Up."
   ]
  },
  {
   "cell_type": "code",
   "execution_count": 12,
   "metadata": {},
   "outputs": [
    {
     "data": {
      "text/plain": [
       "array([0.50708413, 0.48146788, 0.48113883, 0.51522236, 0.51078116,\n",
       "       0.50695646, 0.49265087, 0.50922916, 0.51761353, 0.48883778])"
      ]
     },
     "execution_count": 12,
     "metadata": {},
     "output_type": "execute_result"
    }
   ],
   "source": [
    "logit_predict=logit_model.predict()\n",
    "logit_predict[:10]"
   ]
  },
  {
   "cell_type": "code",
   "execution_count": 13,
   "metadata": {},
   "outputs": [
    {
     "data": {
      "text/html": [
       "<div>\n",
       "<style scoped>\n",
       "    .dataframe tbody tr th:only-of-type {\n",
       "        vertical-align: middle;\n",
       "    }\n",
       "\n",
       "    .dataframe tbody tr th {\n",
       "        vertical-align: top;\n",
       "    }\n",
       "\n",
       "    .dataframe thead th {\n",
       "        text-align: right;\n",
       "    }\n",
       "</style>\n",
       "<table border=\"1\" class=\"dataframe\">\n",
       "  <thead>\n",
       "    <tr style=\"text-align: right;\">\n",
       "      <th></th>\n",
       "      <th>Year</th>\n",
       "      <th>Lag1</th>\n",
       "      <th>Lag2</th>\n",
       "      <th>Lag3</th>\n",
       "      <th>Lag4</th>\n",
       "      <th>Lag5</th>\n",
       "      <th>Volume</th>\n",
       "      <th>Today</th>\n",
       "      <th>Direction</th>\n",
       "      <th>DirCode</th>\n",
       "      <th>PredictedDirection</th>\n",
       "    </tr>\n",
       "  </thead>\n",
       "  <tbody>\n",
       "    <tr>\n",
       "      <th>1</th>\n",
       "      <td>2001</td>\n",
       "      <td>0.381</td>\n",
       "      <td>-0.192</td>\n",
       "      <td>-2.624</td>\n",
       "      <td>-1.055</td>\n",
       "      <td>5.010</td>\n",
       "      <td>1.1913</td>\n",
       "      <td>0.959</td>\n",
       "      <td>Up</td>\n",
       "      <td>1</td>\n",
       "      <td>0.5071</td>\n",
       "    </tr>\n",
       "    <tr>\n",
       "      <th>2</th>\n",
       "      <td>2001</td>\n",
       "      <td>0.959</td>\n",
       "      <td>0.381</td>\n",
       "      <td>-0.192</td>\n",
       "      <td>-2.624</td>\n",
       "      <td>-1.055</td>\n",
       "      <td>1.2965</td>\n",
       "      <td>1.032</td>\n",
       "      <td>Up</td>\n",
       "      <td>1</td>\n",
       "      <td>0.4815</td>\n",
       "    </tr>\n",
       "    <tr>\n",
       "      <th>3</th>\n",
       "      <td>2001</td>\n",
       "      <td>1.032</td>\n",
       "      <td>0.959</td>\n",
       "      <td>0.381</td>\n",
       "      <td>-0.192</td>\n",
       "      <td>-2.624</td>\n",
       "      <td>1.4112</td>\n",
       "      <td>-0.623</td>\n",
       "      <td>Down</td>\n",
       "      <td>0</td>\n",
       "      <td>0.4811</td>\n",
       "    </tr>\n",
       "    <tr>\n",
       "      <th>4</th>\n",
       "      <td>2001</td>\n",
       "      <td>-0.623</td>\n",
       "      <td>1.032</td>\n",
       "      <td>0.959</td>\n",
       "      <td>0.381</td>\n",
       "      <td>-0.192</td>\n",
       "      <td>1.2760</td>\n",
       "      <td>0.614</td>\n",
       "      <td>Up</td>\n",
       "      <td>1</td>\n",
       "      <td>0.5152</td>\n",
       "    </tr>\n",
       "    <tr>\n",
       "      <th>5</th>\n",
       "      <td>2001</td>\n",
       "      <td>0.614</td>\n",
       "      <td>-0.623</td>\n",
       "      <td>1.032</td>\n",
       "      <td>0.959</td>\n",
       "      <td>0.381</td>\n",
       "      <td>1.2057</td>\n",
       "      <td>0.213</td>\n",
       "      <td>Up</td>\n",
       "      <td>1</td>\n",
       "      <td>0.5108</td>\n",
       "    </tr>\n",
       "  </tbody>\n",
       "</table>\n",
       "</div>"
      ],
      "text/plain": [
       "   Year   Lag1   Lag2   Lag3   Lag4   Lag5  Volume  Today Direction  DirCode  \\\n",
       "1  2001  0.381 -0.192 -2.624 -1.055  5.010  1.1913  0.959        Up        1   \n",
       "2  2001  0.959  0.381 -0.192 -2.624 -1.055  1.2965  1.032        Up        1   \n",
       "3  2001  1.032  0.959  0.381 -0.192 -2.624  1.4112 -0.623      Down        0   \n",
       "4  2001 -0.623  1.032  0.959  0.381 -0.192  1.2760  0.614        Up        1   \n",
       "5  2001  0.614 -0.623  1.032  0.959  0.381  1.2057  0.213        Up        1   \n",
       "\n",
       "   PredictedDirection  \n",
       "1              0.5071  \n",
       "2              0.4815  \n",
       "3              0.4811  \n",
       "4              0.5152  \n",
       "5              0.5108  "
      ]
     },
     "execution_count": 13,
     "metadata": {},
     "output_type": "execute_result"
    }
   ],
   "source": [
    "smarket['PredictedDirection'] = logit_predict\n",
    "smarket.head()"
   ]
  },
  {
   "cell_type": "code",
   "execution_count": 14,
   "metadata": {},
   "outputs": [
    {
     "data": {
      "text/html": [
       "<div>\n",
       "<style scoped>\n",
       "    .dataframe tbody tr th:only-of-type {\n",
       "        vertical-align: middle;\n",
       "    }\n",
       "\n",
       "    .dataframe tbody tr th {\n",
       "        vertical-align: top;\n",
       "    }\n",
       "\n",
       "    .dataframe thead th {\n",
       "        text-align: right;\n",
       "    }\n",
       "</style>\n",
       "<table border=\"1\" class=\"dataframe\">\n",
       "  <thead>\n",
       "    <tr style=\"text-align: right;\">\n",
       "      <th></th>\n",
       "      <th>Year</th>\n",
       "      <th>Lag1</th>\n",
       "      <th>Lag2</th>\n",
       "      <th>Lag3</th>\n",
       "      <th>Lag4</th>\n",
       "      <th>Lag5</th>\n",
       "      <th>Volume</th>\n",
       "      <th>Today</th>\n",
       "      <th>Direction</th>\n",
       "      <th>DirCode</th>\n",
       "      <th>PredictedDirection</th>\n",
       "    </tr>\n",
       "  </thead>\n",
       "  <tbody>\n",
       "    <tr>\n",
       "      <th>1</th>\n",
       "      <td>2001</td>\n",
       "      <td>0.381</td>\n",
       "      <td>-0.192</td>\n",
       "      <td>-2.624</td>\n",
       "      <td>-1.055</td>\n",
       "      <td>5.010</td>\n",
       "      <td>1.1913</td>\n",
       "      <td>0.959</td>\n",
       "      <td>Up</td>\n",
       "      <td>1</td>\n",
       "      <td>Up</td>\n",
       "    </tr>\n",
       "    <tr>\n",
       "      <th>2</th>\n",
       "      <td>2001</td>\n",
       "      <td>0.959</td>\n",
       "      <td>0.381</td>\n",
       "      <td>-0.192</td>\n",
       "      <td>-2.624</td>\n",
       "      <td>-1.055</td>\n",
       "      <td>1.2965</td>\n",
       "      <td>1.032</td>\n",
       "      <td>Up</td>\n",
       "      <td>1</td>\n",
       "      <td>Down</td>\n",
       "    </tr>\n",
       "    <tr>\n",
       "      <th>3</th>\n",
       "      <td>2001</td>\n",
       "      <td>1.032</td>\n",
       "      <td>0.959</td>\n",
       "      <td>0.381</td>\n",
       "      <td>-0.192</td>\n",
       "      <td>-2.624</td>\n",
       "      <td>1.4112</td>\n",
       "      <td>-0.623</td>\n",
       "      <td>Down</td>\n",
       "      <td>0</td>\n",
       "      <td>Down</td>\n",
       "    </tr>\n",
       "    <tr>\n",
       "      <th>4</th>\n",
       "      <td>2001</td>\n",
       "      <td>-0.623</td>\n",
       "      <td>1.032</td>\n",
       "      <td>0.959</td>\n",
       "      <td>0.381</td>\n",
       "      <td>-0.192</td>\n",
       "      <td>1.2760</td>\n",
       "      <td>0.614</td>\n",
       "      <td>Up</td>\n",
       "      <td>1</td>\n",
       "      <td>Up</td>\n",
       "    </tr>\n",
       "    <tr>\n",
       "      <th>5</th>\n",
       "      <td>2001</td>\n",
       "      <td>0.614</td>\n",
       "      <td>-0.623</td>\n",
       "      <td>1.032</td>\n",
       "      <td>0.959</td>\n",
       "      <td>0.381</td>\n",
       "      <td>1.2057</td>\n",
       "      <td>0.213</td>\n",
       "      <td>Up</td>\n",
       "      <td>1</td>\n",
       "      <td>Up</td>\n",
       "    </tr>\n",
       "  </tbody>\n",
       "</table>\n",
       "</div>"
      ],
      "text/plain": [
       "   Year   Lag1   Lag2   Lag3   Lag4   Lag5  Volume  Today Direction  DirCode  \\\n",
       "1  2001  0.381 -0.192 -2.624 -1.055  5.010  1.1913  0.959        Up        1   \n",
       "2  2001  0.959  0.381 -0.192 -2.624 -1.055  1.2965  1.032        Up        1   \n",
       "3  2001  1.032  0.959  0.381 -0.192 -2.624  1.4112 -0.623      Down        0   \n",
       "4  2001 -0.623  1.032  0.959  0.381 -0.192  1.2760  0.614        Up        1   \n",
       "5  2001  0.614 -0.623  1.032  0.959  0.381  1.2057  0.213        Up        1   \n",
       "\n",
       "  PredictedDirection  \n",
       "1                 Up  \n",
       "2               Down  \n",
       "3               Down  \n",
       "4                 Up  \n",
       "5                 Up  "
      ]
     },
     "execution_count": 14,
     "metadata": {},
     "output_type": "execute_result"
    }
   ],
   "source": [
    "up = smarket.PredictedDirection >= 0.5\n",
    "down = smarket.PredictedDirection < 0.5\n",
    "column_name = 'PredictedDirection'\n",
    "smarket.loc[up, column_name] = 'Up'\n",
    "smarket.loc[down, column_name] = 'Down'\n",
    "smarket.head()"
   ]
  },
  {
   "cell_type": "code",
   "execution_count": 15,
   "metadata": {},
   "outputs": [
    {
     "data": {
      "text/html": [
       "<div>\n",
       "<style scoped>\n",
       "    .dataframe tbody tr th:only-of-type {\n",
       "        vertical-align: middle;\n",
       "    }\n",
       "\n",
       "    .dataframe tbody tr th {\n",
       "        vertical-align: top;\n",
       "    }\n",
       "\n",
       "    .dataframe thead th {\n",
       "        text-align: right;\n",
       "    }\n",
       "</style>\n",
       "<table border=\"1\" class=\"dataframe\">\n",
       "  <thead>\n",
       "    <tr style=\"text-align: right;\">\n",
       "      <th></th>\n",
       "      <th>Year</th>\n",
       "      <th>Lag1</th>\n",
       "      <th>Lag2</th>\n",
       "      <th>Lag3</th>\n",
       "      <th>Lag4</th>\n",
       "      <th>Lag5</th>\n",
       "      <th>Volume</th>\n",
       "      <th>Today</th>\n",
       "      <th>Direction</th>\n",
       "      <th>DirCode</th>\n",
       "      <th>PredictedDirection</th>\n",
       "      <th>PredictedCode</th>\n",
       "    </tr>\n",
       "  </thead>\n",
       "  <tbody>\n",
       "    <tr>\n",
       "      <th>1</th>\n",
       "      <td>2001</td>\n",
       "      <td>0.381</td>\n",
       "      <td>-0.192</td>\n",
       "      <td>-2.624</td>\n",
       "      <td>-1.055</td>\n",
       "      <td>5.010</td>\n",
       "      <td>1.1913</td>\n",
       "      <td>0.959</td>\n",
       "      <td>Up</td>\n",
       "      <td>1</td>\n",
       "      <td>Up</td>\n",
       "      <td>1</td>\n",
       "    </tr>\n",
       "    <tr>\n",
       "      <th>2</th>\n",
       "      <td>2001</td>\n",
       "      <td>0.959</td>\n",
       "      <td>0.381</td>\n",
       "      <td>-0.192</td>\n",
       "      <td>-2.624</td>\n",
       "      <td>-1.055</td>\n",
       "      <td>1.2965</td>\n",
       "      <td>1.032</td>\n",
       "      <td>Up</td>\n",
       "      <td>1</td>\n",
       "      <td>Down</td>\n",
       "      <td>0</td>\n",
       "    </tr>\n",
       "    <tr>\n",
       "      <th>3</th>\n",
       "      <td>2001</td>\n",
       "      <td>1.032</td>\n",
       "      <td>0.959</td>\n",
       "      <td>0.381</td>\n",
       "      <td>-0.192</td>\n",
       "      <td>-2.624</td>\n",
       "      <td>1.4112</td>\n",
       "      <td>-0.623</td>\n",
       "      <td>Down</td>\n",
       "      <td>0</td>\n",
       "      <td>Down</td>\n",
       "      <td>0</td>\n",
       "    </tr>\n",
       "    <tr>\n",
       "      <th>4</th>\n",
       "      <td>2001</td>\n",
       "      <td>-0.623</td>\n",
       "      <td>1.032</td>\n",
       "      <td>0.959</td>\n",
       "      <td>0.381</td>\n",
       "      <td>-0.192</td>\n",
       "      <td>1.2760</td>\n",
       "      <td>0.614</td>\n",
       "      <td>Up</td>\n",
       "      <td>1</td>\n",
       "      <td>Up</td>\n",
       "      <td>1</td>\n",
       "    </tr>\n",
       "    <tr>\n",
       "      <th>5</th>\n",
       "      <td>2001</td>\n",
       "      <td>0.614</td>\n",
       "      <td>-0.623</td>\n",
       "      <td>1.032</td>\n",
       "      <td>0.959</td>\n",
       "      <td>0.381</td>\n",
       "      <td>1.2057</td>\n",
       "      <td>0.213</td>\n",
       "      <td>Up</td>\n",
       "      <td>1</td>\n",
       "      <td>Up</td>\n",
       "      <td>1</td>\n",
       "    </tr>\n",
       "  </tbody>\n",
       "</table>\n",
       "</div>"
      ],
      "text/plain": [
       "   Year   Lag1   Lag2   Lag3   Lag4   Lag5  Volume  Today Direction  DirCode  \\\n",
       "1  2001  0.381 -0.192 -2.624 -1.055  5.010  1.1913  0.959        Up        1   \n",
       "2  2001  0.959  0.381 -0.192 -2.624 -1.055  1.2965  1.032        Up        1   \n",
       "3  2001  1.032  0.959  0.381 -0.192 -2.624  1.4112 -0.623      Down        0   \n",
       "4  2001 -0.623  1.032  0.959  0.381 -0.192  1.2760  0.614        Up        1   \n",
       "5  2001  0.614 -0.623  1.032  0.959  0.381  1.2057  0.213        Up        1   \n",
       "\n",
       "  PredictedDirection  PredictedCode  \n",
       "1                 Up              1  \n",
       "2               Down              0  \n",
       "3               Down              0  \n",
       "4                 Up              1  \n",
       "5                 Up              1  "
      ]
     },
     "execution_count": 15,
     "metadata": {},
     "output_type": "execute_result"
    }
   ],
   "source": [
    "smarket['PredictedCode'] = smarket['PredictedDirection'].map({'Up': 1, 'Down': 0})\n",
    "smarket.head()"
   ]
  },
  {
   "cell_type": "markdown",
   "metadata": {},
   "source": [
    "Given these predictions, the confusion_matrix method can be used to produce a confusion matrix in order to determine how many\n",
    "observations were correctly or incorrectly classified."
   ]
  },
  {
   "cell_type": "code",
   "execution_count": 16,
   "metadata": {},
   "outputs": [
    {
     "data": {
      "text/plain": [
       "array([[145, 457],\n",
       "       [141, 507]], dtype=int64)"
      ]
     },
     "execution_count": 16,
     "metadata": {},
     "output_type": "execute_result"
    }
   ],
   "source": [
    "from sklearn.metrics import confusion_matrix\n",
    "\n",
    "conf_matrix=confusion_matrix(smarket['DirCode'], smarket['PredictedCode'])\n",
    "conf_matrix"
   ]
  },
  {
   "cell_type": "markdown",
   "metadata": {},
   "source": [
    "The diagonal elements of the confusion matrix indicate correct predictions,\n",
    "while the off-diagonals represent incorrect predictions. Hence our model\n",
    "correctly predicted that the market would go up on 507 days and that\n",
    "it would go down on 145 days, for a total of 507 + 145 = 652 correct\n",
    "predictions."
   ]
  },
  {
   "cell_type": "code",
   "execution_count": 17,
   "metadata": {},
   "outputs": [
    {
     "data": {
      "text/plain": [
       "0.5216"
      ]
     },
     "execution_count": 17,
     "metadata": {},
     "output_type": "execute_result"
    }
   ],
   "source": [
    "(507+145) / 1250"
   ]
  },
  {
   "cell_type": "code",
   "execution_count": 18,
   "metadata": {},
   "outputs": [
    {
     "name": "stdout",
     "output_type": "stream",
     "text": [
      "The model made 0.5216 correct predictions on the TRAINING SET.\n"
     ]
    }
   ],
   "source": [
    "print('The model made {} correct predictions on the TRAINING SET.'.format((conf_matrix[0,0] + conf_matrix[1,1])/logit_model.nobs))"
   ]
  },
  {
   "cell_type": "markdown",
   "metadata": {},
   "source": [
    "The mean() function can be used to compute the fraction of days for which the prediction was correct. In this case, logistic regression correctly predicted the movement of the market 52.2 % of the time."
   ]
  },
  {
   "cell_type": "code",
   "execution_count": 19,
   "metadata": {},
   "outputs": [
    {
     "data": {
      "text/plain": [
       "0.5216"
      ]
     },
     "execution_count": 19,
     "metadata": {},
     "output_type": "execute_result"
    }
   ],
   "source": [
    "np.mean(smarket['PredictedDirection'] == smarket['Direction'])"
   ]
  },
  {
   "cell_type": "markdown",
   "metadata": {},
   "source": [
    "At first glance, it appears that the logistic regression model is working a little better than random guessing. However, this result is misleading because we trained and tested the model on the same set of 1,250 observations. In other words, 100 − 52.2 = 47.8 % is the training error rate. As we have seen previously, the training error rate is often overly optimistic - it tends to underestimate the test error rate. In order to better assess the accuracy of the logistic regression model in this setting, we can fit the model using part of the data, and then examine how well it predicts the held out data. This will yield a more realistic error rate, in the sense that in practice we will be interested in our model's performance not on the data that we used to fit the model, but rather on days in the future for which the market's movements are unknown.\n",
    "\n",
    "To implement this strategy, we will first create a vector corresponding to the observations from 2001 through 2004. We will then use this vector to create a held out data set of observations from 2005."
   ]
  },
  {
   "cell_type": "code",
   "execution_count": 20,
   "metadata": {},
   "outputs": [
    {
     "data": {
      "text/plain": [
       "(252, 12)"
      ]
     },
     "execution_count": 20,
     "metadata": {},
     "output_type": "execute_result"
    }
   ],
   "source": [
    "traindf = smarket[smarket['Year'] != 2005]\n",
    "testdf =smarket[smarket['Year'] == 2005]\n",
    "testdf.shape"
   ]
  },
  {
   "cell_type": "markdown",
   "metadata": {},
   "source": [
    "We now fit a logistic regression model using only the subset of the observations that correspond to dates before 2005. We then obtain predicted probabilities of the stock market going up for each of the days in our test set - that is, for the days in 2005."
   ]
  },
  {
   "cell_type": "code",
   "execution_count": 21,
   "metadata": {},
   "outputs": [
    {
     "name": "stdout",
     "output_type": "stream",
     "text": [
      "Optimization terminated successfully.\n",
      "         Current function value: 0.691936\n",
      "         Iterations 4\n"
     ]
    }
   ],
   "source": [
    "train_fit = smf.logit('DirCode ~ Lag1 + Lag2 + Lag3 + Lag4 + Lag5 + Volume', traindf).fit()\n",
    "predicted_probs = train_fit.predict(testdf)"
   ]
  },
  {
   "cell_type": "markdown",
   "metadata": {},
   "source": [
    "Notice that we have trained and tested our model on two completely separate data sets: training was performed using only the dates before 2005, and testing was performed using only the dates in 2005. Finally, we compute the predictions for 2005 and compare them to the actual movements of the market over that time period."
   ]
  },
  {
   "cell_type": "code",
   "execution_count": 22,
   "metadata": {},
   "outputs": [
    {
     "name": "stdout",
     "output_type": "stream",
     "text": [
      "The model made 0.4801587301587302 % correct predictions on the TEST SET.\n"
     ]
    },
    {
     "name": "stderr",
     "output_type": "stream",
     "text": [
      "C:\\Users\\Ewa\\Anaconda3\\lib\\site-packages\\ipykernel_launcher.py:1: SettingWithCopyWarning: \n",
      "A value is trying to be set on a copy of a slice from a DataFrame.\n",
      "Try using .loc[row_indexer,col_indexer] = value instead\n",
      "\n",
      "See the caveats in the documentation: http://pandas.pydata.org/pandas-docs/stable/indexing.html#indexing-view-versus-copy\n",
      "  \"\"\"Entry point for launching an IPython kernel.\n"
     ]
    }
   ],
   "source": [
    "testdf['preds'] = ['Up' if p > 0.5 else 'Down' for p in predicted_probs] \n",
    "print('The model made', np.mean(testdf['preds'] == testdf['Direction']),'% correct predictions on the TEST SET.')"
   ]
  },
  {
   "cell_type": "code",
   "execution_count": 23,
   "metadata": {},
   "outputs": [
    {
     "data": {
      "text/plain": [
       "array([[77, 97],\n",
       "       [34, 44]], dtype=int64)"
      ]
     },
     "execution_count": 23,
     "metadata": {},
     "output_type": "execute_result"
    }
   ],
   "source": [
    "confusion_matrix(testdf['preds'], testdf['Direction'] )"
   ]
  },
  {
   "cell_type": "code",
   "execution_count": 24,
   "metadata": {},
   "outputs": [
    {
     "name": "stdout",
     "output_type": "stream",
     "text": [
      "The model made 0.5198412698412699 % incorrect predictions on the TEST SET.\n"
     ]
    }
   ],
   "source": [
    "print('The model made', np.mean(testdf['preds'] != testdf['Direction']),'% incorrect predictions on the TEST SET.')"
   ]
  },
  {
   "cell_type": "markdown",
   "metadata": {},
   "source": [
    "The != notation means not equal to, and so the last command computes the test set error rate. The results are rather disappointing: the test error rate is 52 %, which is worse than random guessing! Of course this result is not all that surprising, given that one would not generally expect to be able to use previous days' returns to predict future market performance.\n",
    "\n",
    "We recall that the logistic regression model had very underwhelming p-values associated with all of the predictors, and that the smallest p-value, though not very small, corresponded to Lag1. Perhaps by removing the variables that appear not to be helpful in predicting Direction, we can obtain a more effective model. After all, using predictors that have no relationship with the response tends to cause a deterioration in the test error rate (since such predictors cause an increase in variance without a corresponding decrease in bias), and so removing such predictors may in turn yield an improvement. Below we have refit the logistic regression using just Lag1 and Lag2, which seemed to have the highest predictive power in the original logistic regression model."
   ]
  },
  {
   "cell_type": "code",
   "execution_count": 25,
   "metadata": {},
   "outputs": [
    {
     "name": "stdout",
     "output_type": "stream",
     "text": [
      "Optimization terminated successfully.\n",
      "         Current function value: 0.692085\n",
      "         Iterations 3\n",
      "The model made 0.5595238095238095 % correct predictions on the TEST SET.\n"
     ]
    },
    {
     "name": "stderr",
     "output_type": "stream",
     "text": [
      "C:\\Users\\Ewa\\Anaconda3\\lib\\site-packages\\ipykernel_launcher.py:3: SettingWithCopyWarning: \n",
      "A value is trying to be set on a copy of a slice from a DataFrame.\n",
      "Try using .loc[row_indexer,col_indexer] = value instead\n",
      "\n",
      "See the caveats in the documentation: http://pandas.pydata.org/pandas-docs/stable/indexing.html#indexing-view-versus-copy\n",
      "  This is separate from the ipykernel package so we can avoid doing imports until\n"
     ]
    }
   ],
   "source": [
    "train_fit = smf.logit('DirCode ~ Lag1 + Lag2', traindf).fit()\n",
    "predicted_probs = train_fit.predict(testdf)\n",
    "testdf['preds'] = ['Up' if p > 0.5 else 'Down' for p in predicted_probs]\n",
    "print('The model made', np.mean(testdf.preds == testdf.Direction),'% correct predictions on the TEST SET.')"
   ]
  },
  {
   "cell_type": "code",
   "execution_count": 26,
   "metadata": {},
   "outputs": [
    {
     "data": {
      "text/plain": [
       "array([[ 35,  35],\n",
       "       [ 76, 106]], dtype=int64)"
      ]
     },
     "execution_count": 26,
     "metadata": {},
     "output_type": "execute_result"
    }
   ],
   "source": [
    "conf_matrix=confusion_matrix(testdf['preds'], testdf['Direction'] )\n",
    "conf_matrix"
   ]
  },
  {
   "cell_type": "code",
   "execution_count": 27,
   "metadata": {},
   "outputs": [
    {
     "data": {
      "text/plain": [
       "0.5595238095238095"
      ]
     },
     "execution_count": 27,
     "metadata": {},
     "output_type": "execute_result"
    }
   ],
   "source": [
    "(106+35) / (106+35+76+35)"
   ]
  },
  {
   "cell_type": "markdown",
   "metadata": {},
   "source": [
    "Now the results appear to be a little better: 56% of the daily movements have been correctly predicted. It is worth noting that in this case, a much simpler strategy of predicting that the market will increase every day will also be correct 56% of the time! Hence, in terms of overall error rate, the logistic regression method is no better than the naive approach."
   ]
  },
  {
   "cell_type": "code",
   "execution_count": 28,
   "metadata": {},
   "outputs": [
    {
     "data": {
      "text/plain": [
       "0.5824175824175825"
      ]
     },
     "execution_count": 28,
     "metadata": {},
     "output_type": "execute_result"
    }
   ],
   "source": [
    "106 / (106+76) # On the days where the market is up, we're correctly predicting 58% of the time"
   ]
  },
  {
   "cell_type": "code",
   "execution_count": 29,
   "metadata": {},
   "outputs": [
    {
     "name": "stdout",
     "output_type": "stream",
     "text": [
      "On days where the prediction day is \"Up\" the probability the market will be \"Up\" is 0.5824175824175825\n"
     ]
    }
   ],
   "source": [
    "print('On days where the prediction day is \"Up\" the probability the market will be \"Up\" is',\n",
    "      conf_matrix[1,1]/(conf_matrix[1,0] + conf_matrix[1,1]))"
   ]
  },
  {
   "cell_type": "markdown",
   "metadata": {},
   "source": [
    "However, the confusion matrix shows that on days when logistic regression predicts an increase in the market, it has a 58% accuracy rate. This suggests a possible trading strategy of buying on days when the model predicts an increasing market, and avoiding trades on days when a decrease is predicted. Of course one would need to investigate more carefully whether this small improvement was real or just due to random chance.\n",
    "\n",
    "Suppose that we want to predict the returns associated with particular values of Lag1 and Lag2. In particular, we want to predict Direction on a day when Lag1 and Lag2 equal 1.2 and 1.1, respectively, and on a day when they equal 1.5 and -0.8. We do this using the predict() function."
   ]
  },
  {
   "cell_type": "code",
   "execution_count": 30,
   "metadata": {},
   "outputs": [
    {
     "data": {
      "text/html": [
       "<div>\n",
       "<style scoped>\n",
       "    .dataframe tbody tr th:only-of-type {\n",
       "        vertical-align: middle;\n",
       "    }\n",
       "\n",
       "    .dataframe tbody tr th {\n",
       "        vertical-align: top;\n",
       "    }\n",
       "\n",
       "    .dataframe thead th {\n",
       "        text-align: right;\n",
       "    }\n",
       "</style>\n",
       "<table border=\"1\" class=\"dataframe\">\n",
       "  <thead>\n",
       "    <tr style=\"text-align: right;\">\n",
       "      <th></th>\n",
       "      <th>Lag1</th>\n",
       "      <th>Lag2</th>\n",
       "    </tr>\n",
       "  </thead>\n",
       "  <tbody>\n",
       "    <tr>\n",
       "      <th>0</th>\n",
       "      <td>1.2</td>\n",
       "      <td>1.1</td>\n",
       "    </tr>\n",
       "    <tr>\n",
       "      <th>1</th>\n",
       "      <td>1.5</td>\n",
       "      <td>-0.8</td>\n",
       "    </tr>\n",
       "  </tbody>\n",
       "</table>\n",
       "</div>"
      ],
      "text/plain": [
       "   Lag1  Lag2\n",
       "0   1.2   1.1\n",
       "1   1.5  -0.8"
      ]
     },
     "execution_count": 30,
     "metadata": {},
     "output_type": "execute_result"
    }
   ],
   "source": [
    "pd.DataFrame({'Lag1':[1.2, 1.5], 'Lag2':[1.1,-0.8]})"
   ]
  },
  {
   "cell_type": "code",
   "execution_count": 31,
   "metadata": {},
   "outputs": [
    {
     "data": {
      "text/plain": [
       "0    0.4791\n",
       "1    0.4961\n",
       "dtype: float64"
      ]
     },
     "execution_count": 31,
     "metadata": {},
     "output_type": "execute_result"
    }
   ],
   "source": [
    "train_fit.predict(pd.DataFrame({'Lag1':[1.2, 1.5], 'Lag2':[1.1,-0.8]}))"
   ]
  },
  {
   "cell_type": "markdown",
   "metadata": {},
   "source": [
    "## 4.6.3 Linear Discriminant Analysis"
   ]
  },
  {
   "cell_type": "markdown",
   "metadata": {},
   "source": [
    "Now we will perform LDA on the Smarket data. In Python, we fit an LDA model using the LinearDiscriminantAnalysis function, which is part of the sklearn module.We fit the model using only the observations before 2005."
   ]
  },
  {
   "cell_type": "code",
   "execution_count": 32,
   "metadata": {},
   "outputs": [],
   "source": [
    "from sklearn.discriminant_analysis import LinearDiscriminantAnalysis"
   ]
  },
  {
   "cell_type": "code",
   "execution_count": 33,
   "metadata": {},
   "outputs": [
    {
     "data": {
      "text/plain": [
       "LinearDiscriminantAnalysis(n_components=None, priors=None, shrinkage=None,\n",
       "              solver='svd', store_covariance=False, tol=0.0001)"
      ]
     },
     "execution_count": 33,
     "metadata": {},
     "output_type": "execute_result"
    }
   ],
   "source": [
    "predictors = ['Lag1','Lag2']\n",
    "\n",
    "X_train = traindf[predictors]\n",
    "Y_train = traindf.DirCode\n",
    "\n",
    "lda_model = LinearDiscriminantAnalysis()\n",
    "\n",
    "lda_model.fit(X_train,Y_train)"
   ]
  },
  {
   "cell_type": "code",
   "execution_count": 34,
   "metadata": {},
   "outputs": [
    {
     "data": {
      "text/plain": [
       "array([0.49198397, 0.50801603])"
      ]
     },
     "execution_count": 34,
     "metadata": {},
     "output_type": "execute_result"
    }
   ],
   "source": [
    "lda_model.priors_ # Prior probabilities of groups "
   ]
  },
  {
   "cell_type": "markdown",
   "metadata": {},
   "source": [
    "The LDA output indicates that $\\pi_1 = 0.492$ and $\\pi_2 = 0.508$; in other words, 49.2 % of the training observations correspond to days during which the market went down.\n",
    "\n",
    "It also provides the group means; these are the average of each predictor within each class, and are used by LDA as estimates of $\\mu_k$ . These suggest that there is a tendency for the previous 2 days' returns to be negative on days when the market increases, and a tendency for the previous days' returns to be positive on days when the market declines."
   ]
  },
  {
   "cell_type": "code",
   "execution_count": 35,
   "metadata": {},
   "outputs": [
    {
     "name": "stdout",
     "output_type": "stream",
     "text": [
      "Group Means: \n",
      "  Down: [0.04279022 0.03389409] \n",
      "   Up:   [-0.03954635 -0.03132544]\n"
     ]
    }
   ],
   "source": [
    "print('Group Means: \\n  Down:', lda_model.means_[0], '\\n   Up:  ', lda_model.means_[1])  # first column is Lag1, second Lag2"
   ]
  },
  {
   "cell_type": "code",
   "execution_count": 36,
   "metadata": {},
   "outputs": [
    {
     "data": {
      "text/plain": [
       "array([[-0.64201904],\n",
       "       [-0.51352928]])"
      ]
     },
     "execution_count": 36,
     "metadata": {},
     "output_type": "execute_result"
    }
   ],
   "source": [
    "lda_model.scalings_ # coefficients"
   ]
  },
  {
   "cell_type": "markdown",
   "metadata": {},
   "source": [
    " The coefficients of linear discriminants output provides the linear combination of Lag1 and Lag2 that are used to form the LDA decision rule.\n",
    "If $-0.642 \\times Lag1 - 0.514 \\times Lag2$ is large, then the LDA classifier will predict a market increase, and if it is small, then the LDA classifier will predict a market decline."
   ]
  },
  {
   "cell_type": "code",
   "execution_count": 37,
   "metadata": {},
   "outputs": [
    {
     "data": {
      "text/plain": [
       "array([1, 1, 1, 1, 1, 1, 1, 1, 1, 1, 1, 0, 1, 1, 1, 1, 1, 0, 1, 1, 0, 0,\n",
       "       0, 1, 0, 0, 1, 1, 1, 0, 0, 1, 1, 1, 1, 1, 1, 0, 0, 1, 1, 1, 1, 0,\n",
       "       0, 1, 1, 1, 1, 1, 1, 1, 1, 1, 1, 1, 1, 1, 1, 1, 0, 0, 1, 1, 0, 0,\n",
       "       0, 1, 1, 1, 1, 1, 1, 1, 0, 1, 0, 0, 1, 1, 1, 1, 1, 0, 1, 0, 0, 1,\n",
       "       1, 1, 1, 1, 1, 0, 0, 0, 0, 1, 1, 1, 1, 1, 0, 1, 1, 0, 1, 1, 1, 1,\n",
       "       1, 1, 1, 1, 1, 1, 0, 1, 1, 1, 1, 1, 1, 0, 0, 1, 1, 0, 1, 1, 0, 0,\n",
       "       0, 1, 1, 1, 1, 1, 0, 1, 1, 1, 1, 0, 0, 1, 1, 0, 0, 1, 1, 1, 1, 1,\n",
       "       1, 1, 1, 1, 1, 1, 1, 1, 1, 1, 1, 1, 1, 1, 0, 0, 1, 0, 0, 1, 1, 1,\n",
       "       1, 1, 1, 0, 1, 1, 1, 1, 1, 1, 1, 1, 0, 0, 1, 1, 1, 1, 1, 1, 1, 1,\n",
       "       1, 0, 0, 1, 0, 1, 1, 0, 0, 1, 1, 0, 0, 1, 0, 0, 1, 1, 1, 1, 0, 0,\n",
       "       1, 1, 1, 0, 0, 0, 0, 0, 1, 1, 1, 1, 0, 0, 1, 1, 1, 1, 1, 1, 0, 0,\n",
       "       1, 1, 1, 1, 1, 0, 1, 1, 1, 1], dtype=int64)"
      ]
     },
     "execution_count": 37,
     "metadata": {},
     "output_type": "execute_result"
    }
   ],
   "source": [
    "#gives you the predicted label for each sample\n",
    "\n",
    "lda_pred_class_coded = lda_model.predict(testdf[predictors])\n",
    "lda_pred_class_coded"
   ]
  },
  {
   "cell_type": "code",
   "execution_count": 38,
   "metadata": {},
   "outputs": [
    {
     "name": "stderr",
     "output_type": "stream",
     "text": [
      "C:\\Users\\Ewa\\Anaconda3\\lib\\site-packages\\ipykernel_launcher.py:2: SettingWithCopyWarning: \n",
      "A value is trying to be set on a copy of a slice from a DataFrame.\n",
      "Try using .loc[row_indexer,col_indexer] = value instead\n",
      "\n",
      "See the caveats in the documentation: http://pandas.pydata.org/pandas-docs/stable/indexing.html#indexing-view-versus-copy\n",
      "  \n"
     ]
    },
    {
     "data": {
      "text/plain": [
       "['Up', 'Up', 'Up', 'Up', 'Up', 'Up', 'Up', 'Up', 'Up', 'Up']"
      ]
     },
     "execution_count": 38,
     "metadata": {},
     "output_type": "execute_result"
    }
   ],
   "source": [
    "lda_pred_class = ['Up' if c == 1 else 'Down' for c in lda_pred_class_coded]\n",
    "testdf['lda_pred_class'] = lda_pred_class\n",
    "lda_pred_class[:10]"
   ]
  },
  {
   "cell_type": "code",
   "execution_count": 39,
   "metadata": {},
   "outputs": [
    {
     "data": {
      "text/plain": [
       "array([[ 35,  35],\n",
       "       [ 76, 106]], dtype=int64)"
      ]
     },
     "execution_count": 39,
     "metadata": {},
     "output_type": "execute_result"
    }
   ],
   "source": [
    "# Compute Test Confusion Matrix\n",
    "\n",
    "conf_matrix=confusion_matrix(testdf['lda_pred_class'], testdf['Direction'] )\n",
    "conf_matrix"
   ]
  },
  {
   "cell_type": "code",
   "execution_count": 40,
   "metadata": {},
   "outputs": [
    {
     "name": "stdout",
     "output_type": "stream",
     "text": [
      "The model made 0.5595238095238095 % incorrect predictions on the TEST SET.\n"
     ]
    }
   ],
   "source": [
    "print('The model made', np.mean(testdf['lda_pred_class'] == testdf['Direction']),'% incorrect predictions on the TEST SET.')"
   ]
  },
  {
   "cell_type": "code",
   "execution_count": 41,
   "metadata": {},
   "outputs": [
    {
     "data": {
      "text/plain": [
       "array([[0.49017925, 0.50982075],\n",
       "       [0.4792185 , 0.5207815 ],\n",
       "       [0.46681848, 0.53318152],\n",
       "       [0.47400107, 0.52599893],\n",
       "       [0.49278766, 0.50721234],\n",
       "       [0.49385615, 0.50614385],\n",
       "       [0.49510156, 0.50489844],\n",
       "       [0.4872861 , 0.5127139 ],\n",
       "       [0.49070135, 0.50929865],\n",
       "       [0.48440262, 0.51559738],\n",
       "       [0.49069628, 0.50930372],\n",
       "       [0.51199885, 0.48800115],\n",
       "       [0.48951523, 0.51048477],\n",
       "       [0.47067612, 0.52932388],\n",
       "       [0.47445929, 0.52554071],\n",
       "       [0.47995834, 0.52004166],\n",
       "       [0.49357753, 0.50642247],\n",
       "       [0.50308938, 0.49691062],\n",
       "       [0.49788061, 0.50211939],\n",
       "       [0.48863309, 0.51136691],\n",
       "       [0.50065681, 0.49934319],\n",
       "       [0.51087353, 0.48912647],\n",
       "       [0.50399248, 0.49600752],\n",
       "       [0.49163351, 0.50836649],\n",
       "       [0.50417721, 0.49582279],\n",
       "       [0.50267505, 0.49732495],\n",
       "       [0.49140429, 0.50859571],\n",
       "       [0.48059641, 0.51940359],\n",
       "       [0.48827181, 0.51172819],\n",
       "       [0.50621869, 0.49378131],\n",
       "       [0.50059958, 0.49940042],\n",
       "       [0.49729649, 0.50270351],\n",
       "       [0.49585462, 0.50414538],\n",
       "       [0.48117774, 0.51882226],\n",
       "       [0.48414175, 0.51585825],\n",
       "       [0.47263882, 0.52736118],\n",
       "       [0.48364175, 0.51635825],\n",
       "       [0.50910066, 0.49089934],\n",
       "       [0.51359414, 0.48640586],\n",
       "       [0.49338391, 0.50661609],\n",
       "       [0.49268564, 0.50731436],\n",
       "       [0.4978472 , 0.5021528 ],\n",
       "       [0.49209142, 0.50790858],\n",
       "       [0.50563459, 0.49436541],\n",
       "       [0.50622877, 0.49377123],\n",
       "       [0.48818939, 0.51181061],\n",
       "       [0.47252929, 0.52747071],\n",
       "       [0.48323391, 0.51676609],\n",
       "       [0.48350857, 0.51649143],\n",
       "       [0.49133344, 0.50866656],\n",
       "       [0.48775664, 0.51224336],\n",
       "       [0.47243859, 0.52756141],\n",
       "       [0.48548774, 0.51451226],\n",
       "       [0.49329107, 0.50670893],\n",
       "       [0.48459731, 0.51540269],\n",
       "       [0.47237179, 0.52762821],\n",
       "       [0.48161704, 0.51838296],\n",
       "       [0.49140673, 0.50859327],\n",
       "       [0.4942755 , 0.5057245 ],\n",
       "       [0.48412321, 0.51587679],\n",
       "       [0.50260644, 0.49739356],\n",
       "       [0.50625572, 0.49374428],\n",
       "       [0.48218003, 0.51781997],\n",
       "       [0.48852631, 0.51147369],\n",
       "       [0.50118249, 0.49881751],\n",
       "       [0.50005949, 0.49994051],\n",
       "       [0.50273766, 0.49726234],\n",
       "       [0.48700861, 0.51299139],\n",
       "       [0.48272133, 0.51727867],\n",
       "       [0.49965006, 0.50034994],\n",
       "       [0.4818079 , 0.5181921 ],\n",
       "       [0.4651057 , 0.5348943 ],\n",
       "       [0.45778674, 0.54221326],\n",
       "       [0.47750037, 0.52249963],\n",
       "       [0.50342498, 0.49657502],\n",
       "       [0.48016639, 0.51983361],\n",
       "       [0.50461711, 0.49538289],\n",
       "       [0.50447517, 0.49552483],\n",
       "       [0.4964663 , 0.5035337 ],\n",
       "       [0.48929652, 0.51070348],\n",
       "       [0.48762358, 0.51237642],\n",
       "       [0.48056255, 0.51943745],\n",
       "       [0.4958518 , 0.5041482 ],\n",
       "       [0.51152122, 0.48847878],\n",
       "       [0.49585715, 0.50414285],\n",
       "       [0.50828713, 0.49171287],\n",
       "       [0.50220909, 0.49779091],\n",
       "       [0.48758917, 0.51241083],\n",
       "       [0.49959482, 0.50040518],\n",
       "       [0.48419171, 0.51580829],\n",
       "       [0.48588431, 0.51411569],\n",
       "       [0.48269686, 0.51730314],\n",
       "       [0.47450117, 0.52549883],\n",
       "       [0.50085397, 0.49914603],\n",
       "       [0.51277655, 0.48722345],\n",
       "       [0.51354723, 0.48645277],\n",
       "       [0.50951274, 0.49048726],\n",
       "       [0.49502005, 0.50497995],\n",
       "       [0.49560882, 0.50439118],\n",
       "       [0.49646433, 0.50353567],\n",
       "       [0.48743629, 0.51256371],\n",
       "       [0.49703392, 0.50296608],\n",
       "       [0.50037515, 0.49962485],\n",
       "       [0.48461365, 0.51538635],\n",
       "       [0.49769137, 0.50230863],\n",
       "       [0.50430808, 0.49569192],\n",
       "       [0.48433658, 0.51566342],\n",
       "       [0.48606641, 0.51393359],\n",
       "       [0.49304173, 0.50695827],\n",
       "       [0.48872186, 0.51127814],\n",
       "       [0.49681471, 0.50318529],\n",
       "       [0.49449886, 0.50550114],\n",
       "       [0.49247425, 0.50752575],\n",
       "       [0.49801415, 0.50198585],\n",
       "       [0.49787272, 0.50212728],\n",
       "       [0.49943897, 0.50056103],\n",
       "       [0.50283166, 0.49716834],\n",
       "       [0.49645027, 0.50354973],\n",
       "       [0.48832022, 0.51167978],\n",
       "       [0.48998014, 0.51001986],\n",
       "       [0.4771957 , 0.5228043 ],\n",
       "       [0.46940305, 0.53059695],\n",
       "       [0.48246925, 0.51753075],\n",
       "       [0.50379432, 0.49620568],\n",
       "       [0.50009743, 0.49990257],\n",
       "       [0.48053033, 0.51946967],\n",
       "       [0.48769528, 0.51230472],\n",
       "       [0.50707817, 0.49292183],\n",
       "       [0.49017763, 0.50982237],\n",
       "       [0.48609992, 0.51390008],\n",
       "       [0.51084971, 0.48915029],\n",
       "       [0.51355466, 0.48644534],\n",
       "       [0.50202175, 0.49797825],\n",
       "       [0.49568296, 0.50431704],\n",
       "       [0.49655358, 0.50344642],\n",
       "       [0.49645901, 0.50354099],\n",
       "       [0.48557189, 0.51442811],\n",
       "       [0.4951439 , 0.5048561 ],\n",
       "       [0.50600481, 0.49399519],\n",
       "       [0.48806432, 0.51193568],\n",
       "       [0.49211754, 0.50788246],\n",
       "       [0.49271947, 0.50728053],\n",
       "       [0.49016611, 0.50983389],\n",
       "       [0.5001986 , 0.4998014 ],\n",
       "       [0.50477457, 0.49522543],\n",
       "       [0.48752671, 0.51247329],\n",
       "       [0.48476481, 0.51523519],\n",
       "       [0.50284047, 0.49715953],\n",
       "       [0.50084349, 0.49915651],\n",
       "       [0.48255906, 0.51744094],\n",
       "       [0.47321244, 0.52678756],\n",
       "       [0.47977314, 0.52022686],\n",
       "       [0.49831721, 0.50168279],\n",
       "       [0.49688235, 0.50311765],\n",
       "       [0.49970307, 0.50029693],\n",
       "       [0.49147206, 0.50852794],\n",
       "       [0.48922997, 0.51077003],\n",
       "       [0.47876945, 0.52123055],\n",
       "       [0.47992336, 0.52007664],\n",
       "       [0.49138178, 0.50861822],\n",
       "       [0.49162875, 0.50837125],\n",
       "       [0.49487945, 0.50512055],\n",
       "       [0.48909001, 0.51090999],\n",
       "       [0.47909435, 0.52090565],\n",
       "       [0.4878531 , 0.5121469 ],\n",
       "       [0.48618381, 0.51381619],\n",
       "       [0.49355582, 0.50644418],\n",
       "       [0.49413286, 0.50586714],\n",
       "       [0.50207617, 0.49792383],\n",
       "       [0.50430515, 0.49569485],\n",
       "       [0.48904303, 0.51095697],\n",
       "       [0.50620061, 0.49379939],\n",
       "       [0.50927672, 0.49072328],\n",
       "       [0.48936695, 0.51063305],\n",
       "       [0.49877757, 0.50122243],\n",
       "       [0.4997456 , 0.5002544 ],\n",
       "       [0.48068521, 0.51931479],\n",
       "       [0.47905361, 0.52094639],\n",
       "       [0.48894962, 0.51105038],\n",
       "       [0.50394655, 0.49605345],\n",
       "       [0.49341736, 0.50658264],\n",
       "       [0.4748985 , 0.5251015 ],\n",
       "       [0.4706261 , 0.5293739 ],\n",
       "       [0.48689783, 0.51310217],\n",
       "       [0.49675542, 0.50324458],\n",
       "       [0.49294486, 0.50705514],\n",
       "       [0.49228531, 0.50771469],\n",
       "       [0.493369  , 0.506631  ],\n",
       "       [0.50536007, 0.49463993],\n",
       "       [0.50305521, 0.49694479],\n",
       "       [0.49058366, 0.50941634],\n",
       "       [0.47623902, 0.52376098],\n",
       "       [0.46033919, 0.53966081],\n",
       "       [0.46979321, 0.53020679],\n",
       "       [0.49253001, 0.50746999],\n",
       "       [0.48611431, 0.51388569],\n",
       "       [0.48113758, 0.51886242],\n",
       "       [0.48124736, 0.51875264],\n",
       "       [0.48423833, 0.51576167],\n",
       "       [0.50262179, 0.49737821],\n",
       "       [0.50523122, 0.49476878],\n",
       "       [0.4813184 , 0.5186816 ],\n",
       "       [0.50153968, 0.49846032],\n",
       "       [0.48771613, 0.51228387],\n",
       "       [0.47741706, 0.52258294],\n",
       "       [0.51688267, 0.48311733],\n",
       "       [0.507264  , 0.492736  ],\n",
       "       [0.48335152, 0.51664848],\n",
       "       [0.47267015, 0.52732985],\n",
       "       [0.5032667 , 0.4967333 ],\n",
       "       [0.52023495, 0.47976505],\n",
       "       [0.4950279 , 0.5049721 ],\n",
       "       [0.50187665, 0.49812335],\n",
       "       [0.50891419, 0.49108581],\n",
       "       [0.49689113, 0.50310887],\n",
       "       [0.49515948, 0.50484052],\n",
       "       [0.4895942 , 0.5104058 ],\n",
       "       [0.49046532, 0.50953468],\n",
       "       [0.50553179, 0.49446821],\n",
       "       [0.50554162, 0.49445838],\n",
       "       [0.49424704, 0.50575296],\n",
       "       [0.48574952, 0.51425048],\n",
       "       [0.49016058, 0.50983942],\n",
       "       [0.506973  , 0.493027  ],\n",
       "       [0.50847644, 0.49152356],\n",
       "       [0.50412876, 0.49587124],\n",
       "       [0.50482987, 0.49517013],\n",
       "       [0.50238787, 0.49761213],\n",
       "       [0.49869029, 0.50130971],\n",
       "       [0.48247575, 0.51752425],\n",
       "       [0.48254694, 0.51745306],\n",
       "       [0.48316002, 0.51683998],\n",
       "       [0.50174966, 0.49825034],\n",
       "       [0.50587076, 0.49412924],\n",
       "       [0.48903208, 0.51096792],\n",
       "       [0.49110524, 0.50889476],\n",
       "       [0.48642499, 0.51357501],\n",
       "       [0.48470615, 0.51529385],\n",
       "       [0.49448897, 0.50551103],\n",
       "       [0.49622614, 0.50377386],\n",
       "       [0.50057022, 0.49942978],\n",
       "       [0.5039068 , 0.4960932 ],\n",
       "       [0.49463764, 0.50536236],\n",
       "       [0.48643657, 0.51356343],\n",
       "       [0.4807022 , 0.5192978 ],\n",
       "       [0.48514389, 0.51485611],\n",
       "       [0.49517341, 0.50482659],\n",
       "       [0.50058931, 0.49941069],\n",
       "       [0.497221  , 0.502779  ],\n",
       "       [0.4791988 , 0.5208012 ],\n",
       "       [0.48316733, 0.51683267],\n",
       "       [0.4892591 , 0.5107409 ]])"
      ]
     },
     "execution_count": 41,
     "metadata": {},
     "output_type": "execute_result"
    }
   ],
   "source": [
    "#the probability of each sample to belong to each class\n",
    "\n",
    "lda_pred_posterior = lda_model.predict_proba(testdf[predictors])\n",
    "lda_pred_posterior"
   ]
  },
  {
   "cell_type": "code",
   "execution_count": 42,
   "metadata": {
    "scrolled": true
   },
   "outputs": [
    {
     "data": {
      "text/html": [
       "<div>\n",
       "<style scoped>\n",
       "    .dataframe tbody tr th:only-of-type {\n",
       "        vertical-align: middle;\n",
       "    }\n",
       "\n",
       "    .dataframe tbody tr th {\n",
       "        vertical-align: top;\n",
       "    }\n",
       "\n",
       "    .dataframe thead th {\n",
       "        text-align: right;\n",
       "    }\n",
       "</style>\n",
       "<table border=\"1\" class=\"dataframe\">\n",
       "  <thead>\n",
       "    <tr style=\"text-align: right;\">\n",
       "      <th></th>\n",
       "      <th>prob_0</th>\n",
       "      <th>prob_1</th>\n",
       "      <th>pred_class</th>\n",
       "    </tr>\n",
       "  </thead>\n",
       "  <tbody>\n",
       "    <tr>\n",
       "      <th>0</th>\n",
       "      <td>0.4902</td>\n",
       "      <td>0.5098</td>\n",
       "      <td>1</td>\n",
       "    </tr>\n",
       "    <tr>\n",
       "      <th>1</th>\n",
       "      <td>0.4792</td>\n",
       "      <td>0.5208</td>\n",
       "      <td>1</td>\n",
       "    </tr>\n",
       "    <tr>\n",
       "      <th>2</th>\n",
       "      <td>0.4668</td>\n",
       "      <td>0.5332</td>\n",
       "      <td>1</td>\n",
       "    </tr>\n",
       "    <tr>\n",
       "      <th>3</th>\n",
       "      <td>0.4740</td>\n",
       "      <td>0.5260</td>\n",
       "      <td>1</td>\n",
       "    </tr>\n",
       "    <tr>\n",
       "      <th>4</th>\n",
       "      <td>0.4928</td>\n",
       "      <td>0.5072</td>\n",
       "      <td>1</td>\n",
       "    </tr>\n",
       "    <tr>\n",
       "      <th>5</th>\n",
       "      <td>0.4939</td>\n",
       "      <td>0.5061</td>\n",
       "      <td>1</td>\n",
       "    </tr>\n",
       "    <tr>\n",
       "      <th>6</th>\n",
       "      <td>0.4951</td>\n",
       "      <td>0.5049</td>\n",
       "      <td>1</td>\n",
       "    </tr>\n",
       "    <tr>\n",
       "      <th>7</th>\n",
       "      <td>0.4873</td>\n",
       "      <td>0.5127</td>\n",
       "      <td>1</td>\n",
       "    </tr>\n",
       "    <tr>\n",
       "      <th>8</th>\n",
       "      <td>0.4907</td>\n",
       "      <td>0.5093</td>\n",
       "      <td>1</td>\n",
       "    </tr>\n",
       "    <tr>\n",
       "      <th>9</th>\n",
       "      <td>0.4844</td>\n",
       "      <td>0.5156</td>\n",
       "      <td>1</td>\n",
       "    </tr>\n",
       "    <tr>\n",
       "      <th>10</th>\n",
       "      <td>0.4907</td>\n",
       "      <td>0.5093</td>\n",
       "      <td>1</td>\n",
       "    </tr>\n",
       "    <tr>\n",
       "      <th>11</th>\n",
       "      <td>0.5120</td>\n",
       "      <td>0.4880</td>\n",
       "      <td>0</td>\n",
       "    </tr>\n",
       "    <tr>\n",
       "      <th>12</th>\n",
       "      <td>0.4895</td>\n",
       "      <td>0.5105</td>\n",
       "      <td>1</td>\n",
       "    </tr>\n",
       "    <tr>\n",
       "      <th>13</th>\n",
       "      <td>0.4707</td>\n",
       "      <td>0.5293</td>\n",
       "      <td>1</td>\n",
       "    </tr>\n",
       "    <tr>\n",
       "      <th>14</th>\n",
       "      <td>0.4745</td>\n",
       "      <td>0.5255</td>\n",
       "      <td>1</td>\n",
       "    </tr>\n",
       "    <tr>\n",
       "      <th>15</th>\n",
       "      <td>0.4800</td>\n",
       "      <td>0.5200</td>\n",
       "      <td>1</td>\n",
       "    </tr>\n",
       "    <tr>\n",
       "      <th>16</th>\n",
       "      <td>0.4936</td>\n",
       "      <td>0.5064</td>\n",
       "      <td>1</td>\n",
       "    </tr>\n",
       "    <tr>\n",
       "      <th>17</th>\n",
       "      <td>0.5031</td>\n",
       "      <td>0.4969</td>\n",
       "      <td>0</td>\n",
       "    </tr>\n",
       "    <tr>\n",
       "      <th>18</th>\n",
       "      <td>0.4979</td>\n",
       "      <td>0.5021</td>\n",
       "      <td>1</td>\n",
       "    </tr>\n",
       "    <tr>\n",
       "      <th>19</th>\n",
       "      <td>0.4886</td>\n",
       "      <td>0.5114</td>\n",
       "      <td>1</td>\n",
       "    </tr>\n",
       "    <tr>\n",
       "      <th>20</th>\n",
       "      <td>0.5007</td>\n",
       "      <td>0.4993</td>\n",
       "      <td>0</td>\n",
       "    </tr>\n",
       "    <tr>\n",
       "      <th>21</th>\n",
       "      <td>0.5109</td>\n",
       "      <td>0.4891</td>\n",
       "      <td>0</td>\n",
       "    </tr>\n",
       "    <tr>\n",
       "      <th>22</th>\n",
       "      <td>0.5040</td>\n",
       "      <td>0.4960</td>\n",
       "      <td>0</td>\n",
       "    </tr>\n",
       "    <tr>\n",
       "      <th>23</th>\n",
       "      <td>0.4916</td>\n",
       "      <td>0.5084</td>\n",
       "      <td>1</td>\n",
       "    </tr>\n",
       "    <tr>\n",
       "      <th>24</th>\n",
       "      <td>0.5042</td>\n",
       "      <td>0.4958</td>\n",
       "      <td>0</td>\n",
       "    </tr>\n",
       "    <tr>\n",
       "      <th>25</th>\n",
       "      <td>0.5027</td>\n",
       "      <td>0.4973</td>\n",
       "      <td>0</td>\n",
       "    </tr>\n",
       "    <tr>\n",
       "      <th>26</th>\n",
       "      <td>0.4914</td>\n",
       "      <td>0.5086</td>\n",
       "      <td>1</td>\n",
       "    </tr>\n",
       "    <tr>\n",
       "      <th>27</th>\n",
       "      <td>0.4806</td>\n",
       "      <td>0.5194</td>\n",
       "      <td>1</td>\n",
       "    </tr>\n",
       "    <tr>\n",
       "      <th>28</th>\n",
       "      <td>0.4883</td>\n",
       "      <td>0.5117</td>\n",
       "      <td>1</td>\n",
       "    </tr>\n",
       "    <tr>\n",
       "      <th>29</th>\n",
       "      <td>0.5062</td>\n",
       "      <td>0.4938</td>\n",
       "      <td>0</td>\n",
       "    </tr>\n",
       "    <tr>\n",
       "      <th>...</th>\n",
       "      <td>...</td>\n",
       "      <td>...</td>\n",
       "      <td>...</td>\n",
       "    </tr>\n",
       "    <tr>\n",
       "      <th>222</th>\n",
       "      <td>0.4902</td>\n",
       "      <td>0.5098</td>\n",
       "      <td>1</td>\n",
       "    </tr>\n",
       "    <tr>\n",
       "      <th>223</th>\n",
       "      <td>0.5070</td>\n",
       "      <td>0.4930</td>\n",
       "      <td>0</td>\n",
       "    </tr>\n",
       "    <tr>\n",
       "      <th>224</th>\n",
       "      <td>0.5085</td>\n",
       "      <td>0.4915</td>\n",
       "      <td>0</td>\n",
       "    </tr>\n",
       "    <tr>\n",
       "      <th>225</th>\n",
       "      <td>0.5041</td>\n",
       "      <td>0.4959</td>\n",
       "      <td>0</td>\n",
       "    </tr>\n",
       "    <tr>\n",
       "      <th>226</th>\n",
       "      <td>0.5048</td>\n",
       "      <td>0.4952</td>\n",
       "      <td>0</td>\n",
       "    </tr>\n",
       "    <tr>\n",
       "      <th>227</th>\n",
       "      <td>0.5024</td>\n",
       "      <td>0.4976</td>\n",
       "      <td>0</td>\n",
       "    </tr>\n",
       "    <tr>\n",
       "      <th>228</th>\n",
       "      <td>0.4987</td>\n",
       "      <td>0.5013</td>\n",
       "      <td>1</td>\n",
       "    </tr>\n",
       "    <tr>\n",
       "      <th>229</th>\n",
       "      <td>0.4825</td>\n",
       "      <td>0.5175</td>\n",
       "      <td>1</td>\n",
       "    </tr>\n",
       "    <tr>\n",
       "      <th>230</th>\n",
       "      <td>0.4825</td>\n",
       "      <td>0.5175</td>\n",
       "      <td>1</td>\n",
       "    </tr>\n",
       "    <tr>\n",
       "      <th>231</th>\n",
       "      <td>0.4832</td>\n",
       "      <td>0.5168</td>\n",
       "      <td>1</td>\n",
       "    </tr>\n",
       "    <tr>\n",
       "      <th>232</th>\n",
       "      <td>0.5017</td>\n",
       "      <td>0.4983</td>\n",
       "      <td>0</td>\n",
       "    </tr>\n",
       "    <tr>\n",
       "      <th>233</th>\n",
       "      <td>0.5059</td>\n",
       "      <td>0.4941</td>\n",
       "      <td>0</td>\n",
       "    </tr>\n",
       "    <tr>\n",
       "      <th>234</th>\n",
       "      <td>0.4890</td>\n",
       "      <td>0.5110</td>\n",
       "      <td>1</td>\n",
       "    </tr>\n",
       "    <tr>\n",
       "      <th>235</th>\n",
       "      <td>0.4911</td>\n",
       "      <td>0.5089</td>\n",
       "      <td>1</td>\n",
       "    </tr>\n",
       "    <tr>\n",
       "      <th>236</th>\n",
       "      <td>0.4864</td>\n",
       "      <td>0.5136</td>\n",
       "      <td>1</td>\n",
       "    </tr>\n",
       "    <tr>\n",
       "      <th>237</th>\n",
       "      <td>0.4847</td>\n",
       "      <td>0.5153</td>\n",
       "      <td>1</td>\n",
       "    </tr>\n",
       "    <tr>\n",
       "      <th>238</th>\n",
       "      <td>0.4945</td>\n",
       "      <td>0.5055</td>\n",
       "      <td>1</td>\n",
       "    </tr>\n",
       "    <tr>\n",
       "      <th>239</th>\n",
       "      <td>0.4962</td>\n",
       "      <td>0.5038</td>\n",
       "      <td>1</td>\n",
       "    </tr>\n",
       "    <tr>\n",
       "      <th>240</th>\n",
       "      <td>0.5006</td>\n",
       "      <td>0.4994</td>\n",
       "      <td>0</td>\n",
       "    </tr>\n",
       "    <tr>\n",
       "      <th>241</th>\n",
       "      <td>0.5039</td>\n",
       "      <td>0.4961</td>\n",
       "      <td>0</td>\n",
       "    </tr>\n",
       "    <tr>\n",
       "      <th>242</th>\n",
       "      <td>0.4946</td>\n",
       "      <td>0.5054</td>\n",
       "      <td>1</td>\n",
       "    </tr>\n",
       "    <tr>\n",
       "      <th>243</th>\n",
       "      <td>0.4864</td>\n",
       "      <td>0.5136</td>\n",
       "      <td>1</td>\n",
       "    </tr>\n",
       "    <tr>\n",
       "      <th>244</th>\n",
       "      <td>0.4807</td>\n",
       "      <td>0.5193</td>\n",
       "      <td>1</td>\n",
       "    </tr>\n",
       "    <tr>\n",
       "      <th>245</th>\n",
       "      <td>0.4851</td>\n",
       "      <td>0.5149</td>\n",
       "      <td>1</td>\n",
       "    </tr>\n",
       "    <tr>\n",
       "      <th>246</th>\n",
       "      <td>0.4952</td>\n",
       "      <td>0.5048</td>\n",
       "      <td>1</td>\n",
       "    </tr>\n",
       "    <tr>\n",
       "      <th>247</th>\n",
       "      <td>0.5006</td>\n",
       "      <td>0.4994</td>\n",
       "      <td>0</td>\n",
       "    </tr>\n",
       "    <tr>\n",
       "      <th>248</th>\n",
       "      <td>0.4972</td>\n",
       "      <td>0.5028</td>\n",
       "      <td>1</td>\n",
       "    </tr>\n",
       "    <tr>\n",
       "      <th>249</th>\n",
       "      <td>0.4792</td>\n",
       "      <td>0.5208</td>\n",
       "      <td>1</td>\n",
       "    </tr>\n",
       "    <tr>\n",
       "      <th>250</th>\n",
       "      <td>0.4832</td>\n",
       "      <td>0.5168</td>\n",
       "      <td>1</td>\n",
       "    </tr>\n",
       "    <tr>\n",
       "      <th>251</th>\n",
       "      <td>0.4893</td>\n",
       "      <td>0.5107</td>\n",
       "      <td>1</td>\n",
       "    </tr>\n",
       "  </tbody>\n",
       "</table>\n",
       "<p>252 rows × 3 columns</p>\n",
       "</div>"
      ],
      "text/plain": [
       "     prob_0  prob_1  pred_class\n",
       "0    0.4902  0.5098           1\n",
       "1    0.4792  0.5208           1\n",
       "2    0.4668  0.5332           1\n",
       "3    0.4740  0.5260           1\n",
       "4    0.4928  0.5072           1\n",
       "5    0.4939  0.5061           1\n",
       "6    0.4951  0.5049           1\n",
       "7    0.4873  0.5127           1\n",
       "8    0.4907  0.5093           1\n",
       "9    0.4844  0.5156           1\n",
       "10   0.4907  0.5093           1\n",
       "11   0.5120  0.4880           0\n",
       "12   0.4895  0.5105           1\n",
       "13   0.4707  0.5293           1\n",
       "14   0.4745  0.5255           1\n",
       "15   0.4800  0.5200           1\n",
       "16   0.4936  0.5064           1\n",
       "17   0.5031  0.4969           0\n",
       "18   0.4979  0.5021           1\n",
       "19   0.4886  0.5114           1\n",
       "20   0.5007  0.4993           0\n",
       "21   0.5109  0.4891           0\n",
       "22   0.5040  0.4960           0\n",
       "23   0.4916  0.5084           1\n",
       "24   0.5042  0.4958           0\n",
       "25   0.5027  0.4973           0\n",
       "26   0.4914  0.5086           1\n",
       "27   0.4806  0.5194           1\n",
       "28   0.4883  0.5117           1\n",
       "29   0.5062  0.4938           0\n",
       "..      ...     ...         ...\n",
       "222  0.4902  0.5098           1\n",
       "223  0.5070  0.4930           0\n",
       "224  0.5085  0.4915           0\n",
       "225  0.5041  0.4959           0\n",
       "226  0.5048  0.4952           0\n",
       "227  0.5024  0.4976           0\n",
       "228  0.4987  0.5013           1\n",
       "229  0.4825  0.5175           1\n",
       "230  0.4825  0.5175           1\n",
       "231  0.4832  0.5168           1\n",
       "232  0.5017  0.4983           0\n",
       "233  0.5059  0.4941           0\n",
       "234  0.4890  0.5110           1\n",
       "235  0.4911  0.5089           1\n",
       "236  0.4864  0.5136           1\n",
       "237  0.4847  0.5153           1\n",
       "238  0.4945  0.5055           1\n",
       "239  0.4962  0.5038           1\n",
       "240  0.5006  0.4994           0\n",
       "241  0.5039  0.4961           0\n",
       "242  0.4946  0.5054           1\n",
       "243  0.4864  0.5136           1\n",
       "244  0.4807  0.5193           1\n",
       "245  0.4851  0.5149           1\n",
       "246  0.4952  0.5048           1\n",
       "247  0.5006  0.4994           0\n",
       "248  0.4972  0.5028           1\n",
       "249  0.4792  0.5208           1\n",
       "250  0.4832  0.5168           1\n",
       "251  0.4893  0.5107           1\n",
       "\n",
       "[252 rows x 3 columns]"
      ]
     },
     "execution_count": 42,
     "metadata": {},
     "output_type": "execute_result"
    }
   ],
   "source": [
    "# prediction summary\n",
    "\n",
    "pd.DataFrame({'prob_0': lda_model.predict_proba(testdf[predictors])[:, 0], \n",
    "              'prob_1': lda_model.predict_proba(testdf[predictors])[:, 1], \n",
    "              'pred_class': lda_model.predict(testdf[predictors])}, \n",
    "             columns=['prob_0', 'prob_1', 'pred_class'])"
   ]
  },
  {
   "cell_type": "markdown",
   "metadata": {},
   "source": [
    "Applying a 50 % threshold to the posterior probabilities allows us to recreate the predictions contained in lda_pred_class."
   ]
  },
  {
   "cell_type": "code",
   "execution_count": 43,
   "metadata": {},
   "outputs": [
    {
     "data": {
      "text/plain": [
       "70"
      ]
     },
     "execution_count": 43,
     "metadata": {},
     "output_type": "execute_result"
    }
   ],
   "source": [
    "np.sum(lda_pred_posterior[:,0] >= 0.5)"
   ]
  },
  {
   "cell_type": "code",
   "execution_count": 44,
   "metadata": {},
   "outputs": [
    {
     "data": {
      "text/plain": [
       "182"
      ]
     },
     "execution_count": 44,
     "metadata": {},
     "output_type": "execute_result"
    }
   ],
   "source": [
    "np.sum(lda_pred_posterior[:,1] >= 0.5)"
   ]
  },
  {
   "cell_type": "markdown",
   "metadata": {},
   "source": [
    "Notice that the posterior probability output by the model corresponds to the probability that the market will decrease:"
   ]
  },
  {
   "cell_type": "code",
   "execution_count": 45,
   "metadata": {},
   "outputs": [
    {
     "data": {
      "text/plain": [
       "array([0.49017925, 0.4792185 , 0.46681848, 0.47400107, 0.49278766,\n",
       "       0.49385615, 0.49510156, 0.4872861 , 0.49070135, 0.48440262,\n",
       "       0.49069628, 0.51199885, 0.48951523, 0.47067612, 0.47445929,\n",
       "       0.47995834, 0.49357753, 0.50308938, 0.49788061, 0.48863309])"
      ]
     },
     "execution_count": 45,
     "metadata": {},
     "output_type": "execute_result"
    }
   ],
   "source": [
    "lda_pred_posterior[:20,0]"
   ]
  },
  {
   "cell_type": "code",
   "execution_count": 46,
   "metadata": {},
   "outputs": [
    {
     "data": {
      "text/plain": [
       "999       Up\n",
       "1000      Up\n",
       "1001      Up\n",
       "1002      Up\n",
       "1003      Up\n",
       "1004      Up\n",
       "1005      Up\n",
       "1006      Up\n",
       "1007      Up\n",
       "1008      Up\n",
       "1009      Up\n",
       "1010    Down\n",
       "1011      Up\n",
       "1012      Up\n",
       "1013      Up\n",
       "1014      Up\n",
       "1015      Up\n",
       "1016    Down\n",
       "1017      Up\n",
       "1018      Up\n",
       "Name: lda_pred_class, dtype: object"
      ]
     },
     "execution_count": 46,
     "metadata": {},
     "output_type": "execute_result"
    }
   ],
   "source": [
    "testdf.lda_pred_class[:20]"
   ]
  },
  {
   "cell_type": "markdown",
   "metadata": {},
   "source": [
    "If we wanted to use a posterior probability threshold other than 50 % in order to make predictions, then we could easily do so. For instance, suppose that we wish to predict a market decrease only if we are very certain that the market will indeed decrease on that day-say, if the posterior probability is at least 90 %."
   ]
  },
  {
   "cell_type": "code",
   "execution_count": 47,
   "metadata": {},
   "outputs": [
    {
     "data": {
      "text/plain": [
       "0"
      ]
     },
     "execution_count": 47,
     "metadata": {},
     "output_type": "execute_result"
    }
   ],
   "source": [
    "np.sum(lda_pred_posterior[:,0] >= 0.9)"
   ]
  },
  {
   "cell_type": "markdown",
   "metadata": {},
   "source": [
    "No days in 2005 meet that threshold! In fact, the greatest posterior probability of decrease in all of 2005 was 52.02 %"
   ]
  },
  {
   "cell_type": "code",
   "execution_count": 48,
   "metadata": {},
   "outputs": [
    {
     "data": {
      "text/plain": [
       "0.5202349505356155"
      ]
     },
     "execution_count": 48,
     "metadata": {},
     "output_type": "execute_result"
    }
   ],
   "source": [
    "np.max(lda_pred_posterior[:,0])"
   ]
  },
  {
   "cell_type": "markdown",
   "metadata": {},
   "source": [
    "## <font color='red'>4.6.4 Quadratic Discriminant Analysis</font>"
   ]
  },
  {
   "cell_type": "markdown",
   "metadata": {},
   "source": [
    "We will now fit a QDA model to the Smarket data. QDA is implemented in the sklearn module. The syntax is identical to that of lda()."
   ]
  },
  {
   "cell_type": "code",
   "execution_count": 49,
   "metadata": {},
   "outputs": [
    {
     "data": {
      "text/plain": [
       "QuadraticDiscriminantAnalysis(priors=None, reg_param=0.0,\n",
       "               store_covariance=False, store_covariances=None, tol=0.0001)"
      ]
     },
     "execution_count": 49,
     "metadata": {},
     "output_type": "execute_result"
    }
   ],
   "source": [
    "from sklearn.discriminant_analysis import QuadraticDiscriminantAnalysis\n",
    "\n",
    "qda_model = QuadraticDiscriminantAnalysis()\n",
    "qda_model.fit(X_train,Y_train)"
   ]
  },
  {
   "cell_type": "code",
   "execution_count": 50,
   "metadata": {},
   "outputs": [
    {
     "data": {
      "text/plain": [
       "array([0.49198397, 0.50801603])"
      ]
     },
     "execution_count": 50,
     "metadata": {},
     "output_type": "execute_result"
    }
   ],
   "source": [
    "qda_model.priors_ # Prior probabilities of groups "
   ]
  },
  {
   "cell_type": "code",
   "execution_count": 51,
   "metadata": {},
   "outputs": [
    {
     "name": "stdout",
     "output_type": "stream",
     "text": [
      "Group Means: \n",
      "  Down: [0.04279022 0.03389409] \n",
      "   Up:   [-0.03954635 -0.03132544]\n"
     ]
    }
   ],
   "source": [
    "print('Group Means: \\n  Down:', qda_model.means_[0], '\\n   Up:  ', qda_model.means_[1])  # first column is Lag1, second Lag2"
   ]
  },
  {
   "cell_type": "markdown",
   "metadata": {},
   "source": [
    "The output contains the group means. But it does not contain the coefficients of the linear discriminants, because the QDA classifier involves a quadratic, rather than a linear, function of the predictors. The predict() function works in exactly the same fashion as for LDA."
   ]
  },
  {
   "cell_type": "code",
   "execution_count": 52,
   "metadata": {},
   "outputs": [
    {
     "data": {
      "text/plain": [
       "array([1, 1, 1, 1, 1, 1, 1, 1, 1, 1, 1, 0, 1, 1, 1, 1, 1, 0, 1, 1, 1, 0,\n",
       "       0, 1, 0, 0, 1, 1, 1, 0, 1, 1, 1, 1, 1, 1, 1, 0, 0, 1, 1, 1, 1, 0,\n",
       "       0, 1, 1, 1, 1, 1, 1, 1, 1, 1, 1, 1, 1, 1, 1, 1, 0, 0, 1, 1, 1, 1,\n",
       "       1, 1, 1, 1, 1, 1, 1, 1, 0, 1, 0, 0, 1, 1, 1, 1, 1, 0, 1, 0, 0, 1,\n",
       "       1, 1, 1, 1, 1, 1, 0, 0, 0, 1, 1, 1, 1, 1, 1, 1, 1, 0, 1, 1, 1, 1,\n",
       "       1, 1, 1, 1, 1, 1, 1, 1, 1, 1, 1, 1, 1, 0, 1, 1, 1, 0, 1, 1, 0, 0,\n",
       "       1, 1, 1, 1, 1, 1, 0, 1, 1, 1, 1, 1, 0, 1, 1, 1, 1, 1, 1, 1, 1, 1,\n",
       "       1, 1, 1, 1, 1, 1, 1, 1, 1, 1, 1, 1, 1, 1, 1, 0, 1, 0, 0, 1, 1, 1,\n",
       "       1, 1, 1, 0, 1, 1, 1, 1, 1, 1, 1, 1, 0, 0, 1, 1, 1, 1, 1, 1, 1, 1,\n",
       "       1, 1, 0, 1, 0, 1, 1, 0, 0, 1, 1, 0, 0, 1, 1, 0, 1, 1, 1, 1, 0, 0,\n",
       "       1, 1, 1, 0, 0, 0, 0, 1, 1, 1, 1, 1, 1, 0, 1, 1, 1, 1, 1, 1, 1, 0,\n",
       "       1, 1, 1, 1, 1, 1, 1, 1, 1, 1], dtype=int64)"
      ]
     },
     "execution_count": 52,
     "metadata": {},
     "output_type": "execute_result"
    }
   ],
   "source": [
    "#gives you the predicted label for each sample\n",
    "\n",
    "qda_pred_class_coded = qda_model.predict(testdf[predictors])\n",
    "qda_pred_class_coded"
   ]
  },
  {
   "cell_type": "code",
   "execution_count": 53,
   "metadata": {},
   "outputs": [
    {
     "name": "stderr",
     "output_type": "stream",
     "text": [
      "C:\\Users\\Ewa\\Anaconda3\\lib\\site-packages\\ipykernel_launcher.py:2: SettingWithCopyWarning: \n",
      "A value is trying to be set on a copy of a slice from a DataFrame.\n",
      "Try using .loc[row_indexer,col_indexer] = value instead\n",
      "\n",
      "See the caveats in the documentation: http://pandas.pydata.org/pandas-docs/stable/indexing.html#indexing-view-versus-copy\n",
      "  \n"
     ]
    }
   ],
   "source": [
    "qda_pred_class = ['Up' if c == 1 else 'Down' for c in qda_pred_class_coded]\n",
    "testdf['qda_pred_class'] = qda_pred_class"
   ]
  },
  {
   "cell_type": "code",
   "execution_count": 54,
   "metadata": {},
   "outputs": [
    {
     "data": {
      "text/plain": [
       "array([[ 30,  20],\n",
       "       [ 81, 121]], dtype=int64)"
      ]
     },
     "execution_count": 54,
     "metadata": {},
     "output_type": "execute_result"
    }
   ],
   "source": [
    "# Compute Test Confusion Matrix\n",
    "\n",
    "conf_matrix=confusion_matrix(testdf['qda_pred_class'], testdf['Direction'] )\n",
    "conf_matrix"
   ]
  },
  {
   "cell_type": "code",
   "execution_count": 55,
   "metadata": {},
   "outputs": [
    {
     "name": "stdout",
     "output_type": "stream",
     "text": [
      "The model made 0.5992063492063492 % incorrect predictions on the TEST SET.\n"
     ]
    }
   ],
   "source": [
    "print('The model made', np.mean(testdf['qda_pred_class'] == testdf['Direction']),'% incorrect predictions on the TEST SET.')"
   ]
  },
  {
   "cell_type": "markdown",
   "metadata": {},
   "source": [
    "Interestingly, the QDA predictions are accurate almost 60% of the time,\n",
    "even though the 2005 data was not used to fit the model. This level of accuracy\n",
    "is quite impressive for stock market data, which is known to be quite\n",
    "hard to model accurately. This suggests that the quadratic form assumed\n",
    "by QDA may capture the true relationship more accurately than the linear\n",
    "forms assumed by LDA and logistic regression."
   ]
  },
  {
   "cell_type": "markdown",
   "metadata": {},
   "source": [
    "## <font color='red'>4.6.5 K-Nearest Neighbors</font>"
   ]
  },
  {
   "cell_type": "markdown",
   "metadata": {},
   "source": [
    "We will now perform KNN using the KNeighborsClassifier() function, which is part of the sklearn module.To fit the model we need to pass a matrix of the predictors, and a vector with the corresponding class labels."
   ]
  },
  {
   "cell_type": "code",
   "execution_count": 56,
   "metadata": {},
   "outputs": [
    {
     "data": {
      "text/plain": [
       "KNeighborsClassifier(algorithm='auto', leaf_size=30, metric='minkowski',\n",
       "           metric_params=None, n_jobs=None, n_neighbors=1, p=2,\n",
       "           weights='uniform')"
      ]
     },
     "execution_count": 56,
     "metadata": {},
     "output_type": "execute_result"
    }
   ],
   "source": [
    "from sklearn.neighbors import KNeighborsClassifier as KNNC\n",
    "\n",
    "# Build a KNN classifier\n",
    "knn_1 = KNNC(n_neighbors=1)\n",
    "knn_1.fit(X_train, traindf.Direction)"
   ]
  },
  {
   "cell_type": "code",
   "execution_count": 57,
   "metadata": {},
   "outputs": [
    {
     "data": {
      "text/plain": [
       "array(['Up', 'Down', 'Up', 'Up', 'Up', 'Down', 'Down', 'Down', 'Down',\n",
       "       'Up', 'Up', 'Up', 'Up', 'Up', 'Down', 'Down', 'Up', 'Up', 'Up',\n",
       "       'Up', 'Down', 'Down', 'Down', 'Down', 'Down', 'Up', 'Up', 'Up',\n",
       "       'Down', 'Up', 'Up', 'Down', 'Up', 'Down', 'Up', 'Up', 'Up', 'Up',\n",
       "       'Down', 'Up', 'Up', 'Up', 'Down', 'Down', 'Down', 'Down', 'Up',\n",
       "       'Down', 'Up', 'Up', 'Down', 'Up', 'Down', 'Down', 'Up', 'Up', 'Up',\n",
       "       'Down', 'Up', 'Up', 'Up', 'Up', 'Up', 'Up', 'Down', 'Down', 'Down',\n",
       "       'Up', 'Up', 'Up', 'Up', 'Down', 'Up', 'Down', 'Down', 'Down', 'Up',\n",
       "       'Up', 'Up', 'Down', 'Up', 'Up', 'Down', 'Down', 'Up', 'Up', 'Up',\n",
       "       'Up', 'Down', 'Up', 'Up', 'Up', 'Up', 'Down', 'Down', 'Up', 'Up',\n",
       "       'Up', 'Up', 'Down', 'Down', 'Down', 'Up', 'Up', 'Up', 'Up', 'Down',\n",
       "       'Down', 'Down', 'Down', 'Up', 'Up', 'Up', 'Up', 'Up', 'Down', 'Up',\n",
       "       'Up', 'Down', 'Up', 'Up', 'Up', 'Down', 'Up', 'Down', 'Down', 'Up',\n",
       "       'Up', 'Down', 'Down', 'Down', 'Down', 'Up', 'Down', 'Up', 'Down',\n",
       "       'Up', 'Up', 'Up', 'Down', 'Up', 'Down', 'Up', 'Down', 'Down', 'Up',\n",
       "       'Up', 'Down', 'Up', 'Up', 'Down', 'Up', 'Up', 'Up', 'Up', 'Up',\n",
       "       'Up', 'Down', 'Up', 'Down', 'Up', 'Down', 'Up', 'Down', 'Up', 'Up',\n",
       "       'Up', 'Down', 'Up', 'Up', 'Up', 'Up', 'Down', 'Up', 'Down', 'Up',\n",
       "       'Up', 'Down', 'Down', 'Up', 'Down', 'Down', 'Up', 'Up', 'Down',\n",
       "       'Up', 'Up', 'Down', 'Up', 'Up', 'Down', 'Down', 'Up', 'Down', 'Up',\n",
       "       'Up', 'Up', 'Down', 'Down', 'Down', 'Up', 'Up', 'Up', 'Up', 'Down',\n",
       "       'Up', 'Down', 'Down', 'Up', 'Up', 'Up', 'Down', 'Up', 'Up', 'Up',\n",
       "       'Down', 'Up', 'Down', 'Up', 'Up', 'Up', 'Up', 'Up', 'Up', 'Up',\n",
       "       'Down', 'Down', 'Up', 'Down', 'Up', 'Up', 'Up', 'Down', 'Up', 'Up',\n",
       "       'Down', 'Down', 'Up', 'Down', 'Down', 'Up', 'Up', 'Down', 'Up',\n",
       "       'Down', 'Up', 'Down', 'Down', 'Down', 'Up', 'Down', 'Up'],\n",
       "      dtype=object)"
      ]
     },
     "execution_count": 57,
     "metadata": {},
     "output_type": "execute_result"
    }
   ],
   "source": [
    "knn_1_pred = knn_1.predict(testdf[predictors])\n",
    "knn_1_pred"
   ]
  },
  {
   "cell_type": "code",
   "execution_count": 58,
   "metadata": {},
   "outputs": [
    {
     "name": "stdout",
     "output_type": "stream",
     "text": [
      "The model made 0.5 % incorrect predictions on the TEST SET.\n"
     ]
    }
   ],
   "source": [
    "print('The model made', np.mean(knn_1_pred == testdf['Direction']),'% incorrect predictions on the TEST SET.')"
   ]
  },
  {
   "cell_type": "code",
   "execution_count": 59,
   "metadata": {},
   "outputs": [
    {
     "data": {
      "text/plain": [
       "array([[43, 58],\n",
       "       [68, 83]], dtype=int64)"
      ]
     },
     "execution_count": 59,
     "metadata": {},
     "output_type": "execute_result"
    }
   ],
   "source": [
    "# Compute Test Confusion Matrix\n",
    "\n",
    "conf_matrix=confusion_matrix(knn_1_pred, testdf['Direction'] )\n",
    "conf_matrix"
   ]
  },
  {
   "cell_type": "markdown",
   "metadata": {},
   "source": [
    "The results using K = 1 are not very good, since only 50 % of the observations are correctly predicted. Of course, it may be that K = 1 results in an overly flexible fit to the data. Below, we repeat the analysis using K = 3."
   ]
  },
  {
   "cell_type": "code",
   "execution_count": 60,
   "metadata": {},
   "outputs": [
    {
     "name": "stdout",
     "output_type": "stream",
     "text": [
      "The model made 0.5317460317460317 % incorrect predictions on the TEST SET.\n"
     ]
    }
   ],
   "source": [
    "knn_3 = KNNC(n_neighbors=3)\n",
    "knn_3.fit(X_train, traindf.Direction)\n",
    "knn_3_pred = knn_3.predict(testdf[predictors])\n",
    "print('The model made', np.mean(knn_3_pred == testdf['Direction']),'% incorrect predictions on the TEST SET.')"
   ]
  },
  {
   "cell_type": "code",
   "execution_count": 61,
   "metadata": {},
   "outputs": [
    {
     "data": {
      "text/plain": [
       "array([[48, 55],\n",
       "       [63, 86]], dtype=int64)"
      ]
     },
     "execution_count": 61,
     "metadata": {},
     "output_type": "execute_result"
    }
   ],
   "source": [
    "conf_matrix=confusion_matrix(knn_3_pred, testdf['Direction'] )\n",
    "conf_matrix"
   ]
  },
  {
   "cell_type": "markdown",
   "metadata": {},
   "source": [
    "The results have improved slightly. But increasing K further turns out to provide no further improvements. It appears that for this data, QDA provides the best results of the methods that we have examined so far."
   ]
  },
  {
   "cell_type": "markdown",
   "metadata": {},
   "source": [
    "## <font color='red'>4.6.6 An Application to Caravan Insurance Data</font>"
   ]
  },
  {
   "cell_type": "markdown",
   "metadata": {},
   "source": [
    "Finally, we will apply the KNN approach to the Caravan data set. This data set includes 85 predictors that measure demographic characteristics for 5822 individuals. The response variable is Purchase, which indicates whether or not a given individual purchases a caravan insurance policy. In this data set, only 6% of people purchased caravan insurance."
   ]
  },
  {
   "cell_type": "code",
   "execution_count": 62,
   "metadata": {},
   "outputs": [
    {
     "data": {
      "text/html": [
       "<div>\n",
       "<style scoped>\n",
       "    .dataframe tbody tr th:only-of-type {\n",
       "        vertical-align: middle;\n",
       "    }\n",
       "\n",
       "    .dataframe tbody tr th {\n",
       "        vertical-align: top;\n",
       "    }\n",
       "\n",
       "    .dataframe thead th {\n",
       "        text-align: right;\n",
       "    }\n",
       "</style>\n",
       "<table border=\"1\" class=\"dataframe\">\n",
       "  <thead>\n",
       "    <tr style=\"text-align: right;\">\n",
       "      <th></th>\n",
       "      <th>MOSTYPE</th>\n",
       "      <th>MAANTHUI</th>\n",
       "      <th>MGEMOMV</th>\n",
       "      <th>MGEMLEEF</th>\n",
       "      <th>MOSHOOFD</th>\n",
       "      <th>MGODRK</th>\n",
       "      <th>MGODPR</th>\n",
       "      <th>MGODOV</th>\n",
       "      <th>MGODGE</th>\n",
       "      <th>MRELGE</th>\n",
       "      <th>...</th>\n",
       "      <th>APERSONG</th>\n",
       "      <th>AGEZONG</th>\n",
       "      <th>AWAOREG</th>\n",
       "      <th>ABRAND</th>\n",
       "      <th>AZEILPL</th>\n",
       "      <th>APLEZIER</th>\n",
       "      <th>AFIETS</th>\n",
       "      <th>AINBOED</th>\n",
       "      <th>ABYSTAND</th>\n",
       "      <th>Purchase</th>\n",
       "    </tr>\n",
       "  </thead>\n",
       "  <tbody>\n",
       "    <tr>\n",
       "      <th>1</th>\n",
       "      <td>33</td>\n",
       "      <td>1</td>\n",
       "      <td>3</td>\n",
       "      <td>2</td>\n",
       "      <td>8</td>\n",
       "      <td>0</td>\n",
       "      <td>5</td>\n",
       "      <td>1</td>\n",
       "      <td>3</td>\n",
       "      <td>7</td>\n",
       "      <td>...</td>\n",
       "      <td>0</td>\n",
       "      <td>0</td>\n",
       "      <td>0</td>\n",
       "      <td>1</td>\n",
       "      <td>0</td>\n",
       "      <td>0</td>\n",
       "      <td>0</td>\n",
       "      <td>0</td>\n",
       "      <td>0</td>\n",
       "      <td>No</td>\n",
       "    </tr>\n",
       "    <tr>\n",
       "      <th>2</th>\n",
       "      <td>37</td>\n",
       "      <td>1</td>\n",
       "      <td>2</td>\n",
       "      <td>2</td>\n",
       "      <td>8</td>\n",
       "      <td>1</td>\n",
       "      <td>4</td>\n",
       "      <td>1</td>\n",
       "      <td>4</td>\n",
       "      <td>6</td>\n",
       "      <td>...</td>\n",
       "      <td>0</td>\n",
       "      <td>0</td>\n",
       "      <td>0</td>\n",
       "      <td>1</td>\n",
       "      <td>0</td>\n",
       "      <td>0</td>\n",
       "      <td>0</td>\n",
       "      <td>0</td>\n",
       "      <td>0</td>\n",
       "      <td>No</td>\n",
       "    </tr>\n",
       "    <tr>\n",
       "      <th>3</th>\n",
       "      <td>37</td>\n",
       "      <td>1</td>\n",
       "      <td>2</td>\n",
       "      <td>2</td>\n",
       "      <td>8</td>\n",
       "      <td>0</td>\n",
       "      <td>4</td>\n",
       "      <td>2</td>\n",
       "      <td>4</td>\n",
       "      <td>3</td>\n",
       "      <td>...</td>\n",
       "      <td>0</td>\n",
       "      <td>0</td>\n",
       "      <td>0</td>\n",
       "      <td>1</td>\n",
       "      <td>0</td>\n",
       "      <td>0</td>\n",
       "      <td>0</td>\n",
       "      <td>0</td>\n",
       "      <td>0</td>\n",
       "      <td>No</td>\n",
       "    </tr>\n",
       "    <tr>\n",
       "      <th>4</th>\n",
       "      <td>9</td>\n",
       "      <td>1</td>\n",
       "      <td>3</td>\n",
       "      <td>3</td>\n",
       "      <td>3</td>\n",
       "      <td>2</td>\n",
       "      <td>3</td>\n",
       "      <td>2</td>\n",
       "      <td>4</td>\n",
       "      <td>5</td>\n",
       "      <td>...</td>\n",
       "      <td>0</td>\n",
       "      <td>0</td>\n",
       "      <td>0</td>\n",
       "      <td>1</td>\n",
       "      <td>0</td>\n",
       "      <td>0</td>\n",
       "      <td>0</td>\n",
       "      <td>0</td>\n",
       "      <td>0</td>\n",
       "      <td>No</td>\n",
       "    </tr>\n",
       "    <tr>\n",
       "      <th>5</th>\n",
       "      <td>40</td>\n",
       "      <td>1</td>\n",
       "      <td>4</td>\n",
       "      <td>2</td>\n",
       "      <td>10</td>\n",
       "      <td>1</td>\n",
       "      <td>4</td>\n",
       "      <td>1</td>\n",
       "      <td>4</td>\n",
       "      <td>7</td>\n",
       "      <td>...</td>\n",
       "      <td>0</td>\n",
       "      <td>0</td>\n",
       "      <td>0</td>\n",
       "      <td>1</td>\n",
       "      <td>0</td>\n",
       "      <td>0</td>\n",
       "      <td>0</td>\n",
       "      <td>0</td>\n",
       "      <td>0</td>\n",
       "      <td>No</td>\n",
       "    </tr>\n",
       "  </tbody>\n",
       "</table>\n",
       "<p>5 rows × 86 columns</p>\n",
       "</div>"
      ],
      "text/plain": [
       "   MOSTYPE  MAANTHUI  MGEMOMV  MGEMLEEF  MOSHOOFD  MGODRK  MGODPR  MGODOV  \\\n",
       "1       33         1        3         2         8       0       5       1   \n",
       "2       37         1        2         2         8       1       4       1   \n",
       "3       37         1        2         2         8       0       4       2   \n",
       "4        9         1        3         3         3       2       3       2   \n",
       "5       40         1        4         2        10       1       4       1   \n",
       "\n",
       "   MGODGE  MRELGE    ...     APERSONG  AGEZONG  AWAOREG  ABRAND  AZEILPL  \\\n",
       "1       3       7    ...            0        0        0       1        0   \n",
       "2       4       6    ...            0        0        0       1        0   \n",
       "3       4       3    ...            0        0        0       1        0   \n",
       "4       4       5    ...            0        0        0       1        0   \n",
       "5       4       7    ...            0        0        0       1        0   \n",
       "\n",
       "   APLEZIER  AFIETS  AINBOED  ABYSTAND  Purchase  \n",
       "1         0       0        0         0        No  \n",
       "2         0       0        0         0        No  \n",
       "3         0       0        0         0        No  \n",
       "4         0       0        0         0        No  \n",
       "5         0       0        0         0        No  \n",
       "\n",
       "[5 rows x 86 columns]"
      ]
     },
     "execution_count": 62,
     "metadata": {},
     "output_type": "execute_result"
    }
   ],
   "source": [
    "# Load the caravan insurance data\n",
    "caravan= pd.read_csv('caravan_data', index_col=0)\n",
    "caravan.head()"
   ]
  },
  {
   "cell_type": "code",
   "execution_count": 63,
   "metadata": {},
   "outputs": [
    {
     "data": {
      "text/plain": [
       "(5822, 86)"
      ]
     },
     "execution_count": 63,
     "metadata": {},
     "output_type": "execute_result"
    }
   ],
   "source": [
    "caravan.shape"
   ]
  },
  {
   "cell_type": "code",
   "execution_count": 64,
   "metadata": {},
   "outputs": [
    {
     "data": {
      "text/plain": [
       "No     5474\n",
       "Yes     348\n",
       "Name: Purchase, dtype: int64"
      ]
     },
     "execution_count": 64,
     "metadata": {},
     "output_type": "execute_result"
    }
   ],
   "source": [
    "caravan[\"Purchase\"].value_counts()\n"
   ]
  },
  {
   "cell_type": "code",
   "execution_count": 65,
   "metadata": {},
   "outputs": [
    {
     "data": {
      "text/plain": [
       "0.05977327378907592"
      ]
     },
     "execution_count": 65,
     "metadata": {},
     "output_type": "execute_result"
    }
   ],
   "source": [
    "348/5822 # only 6% of people purchased caravan insurance"
   ]
  },
  {
   "cell_type": "markdown",
   "metadata": {},
   "source": [
    "Because the KNN classifier predicts the class of a given test observation by\n",
    "identifying the observations that are nearest to it, the scale of the variables\n",
    "matters. Any variables that are on a large scale will have a much larger\n",
    "effect on the distance between the observations, and hence on the KNN\n",
    "classifier, than variables that are on a small scale.\n",
    "\n",
    "A good way to handle this problem is to standardize the data so that all variables are given a mean of zero and a standard deviation of one. Then all variables will be on a comparable scale. In standardizing the data, we exclude column 86, because that is the qualitative Purchase variable."
   ]
  },
  {
   "cell_type": "code",
   "execution_count": 67,
   "metadata": {},
   "outputs": [
    {
     "name": "stdout",
     "output_type": "stream",
     "text": [
      "mean = -1.6140377328112892e-16 variance =  1.0\n"
     ]
    },
    {
     "name": "stderr",
     "output_type": "stream",
     "text": [
      "C:\\Users\\Ewa\\Anaconda3\\lib\\site-packages\\ipykernel_launcher.py:3: DataConversionWarning: Data with input dtype int64 were all converted to float64 by the scale function.\n",
      "  This is separate from the ipykernel package so we can avoid doing imports until\n"
     ]
    }
   ],
   "source": [
    "from sklearn.preprocessing import scale\n",
    "\n",
    "standardized_X = scale(caravan.iloc[:,0:85], axis=0)\n",
    "\n",
    "# check that X[:,1] is now standardized\n",
    "print('mean =', np.mean(standardized_X[:,1]), 'variance = ', np.var(standardized_X[:,1]))"
   ]
  },
  {
   "cell_type": "markdown",
   "metadata": {},
   "source": [
    "Now every column of standardized_X has a standard deviation of one and a mean of zero.\n",
    "\n",
    "We now split the observations into a test set, containing the first 1,000 observations, and a training set, containing the remaining observations. We fit a KNN model on the training data using K = 1, and evaluate its performance on the test data."
   ]
  },
  {
   "cell_type": "code",
   "execution_count": 68,
   "metadata": {},
   "outputs": [
    {
     "name": "stdout",
     "output_type": "stream",
     "text": [
      "The error rate for k=1 is 11.800 %\n",
      "There are 0.059 % custumors who bought insurance on the test set.\n"
     ]
    }
   ],
   "source": [
    "Y = caravan.Purchase.values\n",
    "\n",
    "X_train = standardized_X[1000:]\n",
    "X_test = standardized_X[:1000]\n",
    "Y_train = Y[1000:]\n",
    "Y_test = Y[:1000]\n",
    "\n",
    "knn1 = KNNC(n_neighbors=1)\n",
    "knn1.fit(X_train, Y_train)\n",
    "knn1_pred = knn1.predict(X_test)\n",
    "\n",
    "error_rate = np.mean(knn1_pred != Y_test)\n",
    "\n",
    "print('The error rate for k={} is {:.3f} %'.format(1, 100*error_rate))\n",
    "print('There are {} % custumors who bought insurance on the test set.'.format(np.mean(Y_test == 'Yes')))"
   ]
  },
  {
   "cell_type": "markdown",
   "metadata": {},
   "source": [
    "The KNN error rate on the\n",
    "1,000 test observations is just under 12%. At first glance, this may appear\n",
    "to be fairly good. However, since only 6% of customers purchased\n",
    "insurance, we could get the error rate down to 6% by always predicting No\n",
    "regardless of the values of the predictors!\n",
    "\n",
    "Suppose that there is some non-trivial cost to trying to sell insurance\n",
    "to a given individual. For instance, perhaps a salesperson must visit each\n",
    "potential customer. If the company tries to sell insurance to a random\n",
    "selection of customers, then the success rate will be only 6%, which may\n",
    "be far too low given the costs involved. Instead, the company would like\n",
    "to try to sell insurance only to customers who are likely to buy it. So the\n",
    "overall error rate is not of interest. Instead, the fraction of individuals that\n",
    "are correctly predicted to buy insurance is of interest.\n",
    "\n",
    "It turns out that KNN with K = 1 does far better than random guessing\n",
    "among the customers that are predicted to buy insurance. Among 77 such\n",
    "customers, 9, or 11.7%, actually do purchase insurance. This is double the\n",
    "rate that one would obtain from random guessing."
   ]
  },
  {
   "cell_type": "code",
   "execution_count": 69,
   "metadata": {},
   "outputs": [
    {
     "data": {
      "text/plain": [
       "array([[873,  50],\n",
       "       [ 68,   9]], dtype=int64)"
      ]
     },
     "execution_count": 69,
     "metadata": {},
     "output_type": "execute_result"
    }
   ],
   "source": [
    "conf_matrix=confusion_matrix(knn1_pred, Y_test ) #  knn1.pred No Yes\n",
    "                                                         # No 873 50\n",
    "                                                         # Yes 68 9\n",
    "conf_matrix"
   ]
  },
  {
   "cell_type": "code",
   "execution_count": 70,
   "metadata": {},
   "outputs": [
    {
     "data": {
      "text/plain": [
       "0.11688311688311688"
      ]
     },
     "execution_count": 70,
     "metadata": {},
     "output_type": "execute_result"
    }
   ],
   "source": [
    "9/(68+9)"
   ]
  },
  {
   "cell_type": "code",
   "execution_count": 71,
   "metadata": {},
   "outputs": [
    {
     "name": "stdout",
     "output_type": "stream",
     "text": [
      "The true positive rate on the test set: 11.688311688311687\n"
     ]
    }
   ],
   "source": [
    "print(\"The true positive rate on the test set: {}\".format(100*(conf_matrix[1,1]/(conf_matrix[1,1] + conf_matrix[1,0]))))"
   ]
  },
  {
   "cell_type": "markdown",
   "metadata": {},
   "source": [
    "Using K = 3, the success rate increases to 20 %, and with K = 5 the rate is 26.7 %. This is over four times the rate that results from random guessing. It appears that KNN is finding some real patterns in a difficult data set!"
   ]
  },
  {
   "cell_type": "code",
   "execution_count": 72,
   "metadata": {},
   "outputs": [
    {
     "name": "stdout",
     "output_type": "stream",
     "text": [
      "The error rate for k=3 is 7.400 %\n",
      "The true positive rate on the test set: 20.0\n"
     ]
    }
   ],
   "source": [
    "knn3 = KNNC(n_neighbors=3)\n",
    "knn3.fit(X_train, Y_train)\n",
    "knn3_pred = knn3.predict(X_test)\n",
    "\n",
    "error_rate = np.mean(knn3_pred != Y_test)\n",
    "print('The error rate for k={} is {:.3f} %'.format(3, 100*error_rate))\n",
    "\n",
    "conf_matrix=confusion_matrix(knn3_pred, Y_test )\n",
    "print(\"The true positive rate on the test set: {}\".format(100*(conf_matrix[1,1]/(conf_matrix[1,1] + conf_matrix[1,0]))))\n"
   ]
  },
  {
   "cell_type": "code",
   "execution_count": 73,
   "metadata": {},
   "outputs": [
    {
     "name": "stdout",
     "output_type": "stream",
     "text": [
      "The error rate for k=5 is 6.600 %\n",
      "The true positive rate on the test set: 26.666666666666668\n"
     ]
    }
   ],
   "source": [
    "knn5 = KNNC(n_neighbors=5)\n",
    "knn5.fit(X_train, Y_train)\n",
    "knn5_pred = knn5.predict(X_test)\n",
    "\n",
    "error_rate = np.mean(knn5_pred != Y_test)\n",
    "print('The error rate for k={} is {:.3f} %'.format(5, 100*error_rate))\n",
    "\n",
    "conf_matrix=confusion_matrix(knn5_pred, Y_test )\n",
    "print(\"The true positive rate on the test set: {}\".format(100*(conf_matrix[1,1]/(conf_matrix[1,1] + conf_matrix[1,0]))))\n"
   ]
  },
  {
   "cell_type": "markdown",
   "metadata": {},
   "source": [
    "As a comparison, we can also fit a logistic regression model to the data. If we use 0.5 as the predicted probability cut-off for the classifier, then we have a problem: only seven of the test observations are predicted to purchase insurance. Even worse, we are wrong about all of these! However, we are not required to use a cut-off of 0.5. If we instead predict a purchase any time the predicted probability of purchase exceeds 0.25, we get much better results: we predict that 33 people will purchase insurance, and we are correct for about 33 % of these people. This is over five times better than random guessing!"
   ]
  },
  {
   "cell_type": "code",
   "execution_count": 76,
   "metadata": {},
   "outputs": [
    {
     "name": "stdout",
     "output_type": "stream",
     "text": [
      "Warning: Maximum number of iterations has been exceeded.\n",
      "         Current function value: 0.192013\n",
      "         Iterations: 35\n"
     ]
    },
    {
     "name": "stderr",
     "output_type": "stream",
     "text": [
      "C:\\Users\\Ewa\\Anaconda3\\lib\\site-packages\\statsmodels\\base\\model.py:508: ConvergenceWarning: Maximum Likelihood optimization failed to converge. Check mle_retvals\n",
      "  \"Check mle_retvals\", ConvergenceWarning)\n"
     ]
    },
    {
     "data": {
      "text/plain": [
       "array([[934,  59],\n",
       "       [  7,   0]], dtype=int64)"
      ]
     },
     "execution_count": 76,
     "metadata": {},
     "output_type": "execute_result"
    }
   ],
   "source": [
    "predictors = caravan.columns.tolist()[:-1]\n",
    "\n",
    "Y_train_coded = [0 if d == 'No' else 1 for d in Y_train]\n",
    "\n",
    "X_train2 = sm.add_constant(X_train) # Add a column of ones to an array.\n",
    "\n",
    "logit_model = sm.Logit(Y_train_coded, X_train2).fit()\n",
    "\n",
    "X_test2 = sm.add_constant(X_test, has_constant='add')\n",
    "\n",
    "logit_probs = logit_model.predict(X_test2)\n",
    "\n",
    "logit_pred = pd.Series(['Yes' if p > 0.5 else 'No' for p in logit_probs])\n",
    "\n",
    "conf_matrix=confusion_matrix(logit_pred, Y_test )\n",
    "conf_matrix"
   ]
  },
  {
   "cell_type": "code",
   "execution_count": 77,
   "metadata": {},
   "outputs": [
    {
     "data": {
      "text/plain": [
       "array([[919,  48],\n",
       "       [ 22,  11]], dtype=int64)"
      ]
     },
     "execution_count": 77,
     "metadata": {},
     "output_type": "execute_result"
    }
   ],
   "source": [
    "logit_pred = pd.Series(['Yes' if p > 0.25 else 'No' for p in logit_probs])\n",
    "conf_matrix=confusion_matrix(logit_pred, Y_test )\n",
    "conf_matrix"
   ]
  },
  {
   "cell_type": "code",
   "execution_count": 78,
   "metadata": {},
   "outputs": [
    {
     "name": "stdout",
     "output_type": "stream",
     "text": [
      "The true positive rate on the test set: 33.33333333333333\n"
     ]
    }
   ],
   "source": [
    "print(\"The true positive rate on the test set: {}\".format(100*(conf_matrix[1,1]/(conf_matrix[1,1] + conf_matrix[1,0]))))\n"
   ]
  },
  {
   "cell_type": "code",
   "execution_count": null,
   "metadata": {},
   "outputs": [],
   "source": []
  }
 ],
 "metadata": {
  "kernelspec": {
   "display_name": "Python 3",
   "language": "python",
   "name": "python3"
  },
  "language_info": {
   "codemirror_mode": {
    "name": "ipython",
    "version": 3
   },
   "file_extension": ".py",
   "mimetype": "text/x-python",
   "name": "python",
   "nbconvert_exporter": "python",
   "pygments_lexer": "ipython3",
   "version": "3.7.1"
  }
 },
 "nbformat": 4,
 "nbformat_minor": 2
}
